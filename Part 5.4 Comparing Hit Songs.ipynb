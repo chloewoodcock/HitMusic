{
 "cells": [
  {
   "cell_type": "code",
   "execution_count": 1,
   "metadata": {},
   "outputs": [],
   "source": [
    "import pandas as pd"
   ]
  },
  {
   "cell_type": "markdown",
   "metadata": {},
   "source": [
    "# Importing Both Datasets"
   ]
  },
  {
   "cell_type": "code",
   "execution_count": 2,
   "metadata": {},
   "outputs": [],
   "source": [
    "df_top10 = pd.read_csv(r'df_top10.csv')"
   ]
  },
  {
   "cell_type": "code",
   "execution_count": 3,
   "metadata": {},
   "outputs": [],
   "source": [
    "df_spot75 = pd.read_csv(r'df_spot75.csv')"
   ]
  },
  {
   "cell_type": "code",
   "execution_count": 4,
   "metadata": {},
   "outputs": [
    {
     "data": {
      "text/html": [
       "<div>\n",
       "<style scoped>\n",
       "    .dataframe tbody tr th:only-of-type {\n",
       "        vertical-align: middle;\n",
       "    }\n",
       "\n",
       "    .dataframe tbody tr th {\n",
       "        vertical-align: top;\n",
       "    }\n",
       "\n",
       "    .dataframe thead th {\n",
       "        text-align: right;\n",
       "    }\n",
       "</style>\n",
       "<table border=\"1\" class=\"dataframe\">\n",
       "  <thead>\n",
       "    <tr style=\"text-align: right;\">\n",
       "      <th></th>\n",
       "      <th>Unnamed: 0</th>\n",
       "      <th>id</th>\n",
       "      <th>weeks</th>\n",
       "      <th>lyric_sent</th>\n",
       "      <th>lyric_lab</th>\n",
       "      <th>lyric_ex</th>\n",
       "      <th>np_vol</th>\n",
       "      <th>np_sent</th>\n",
       "      <th>pre_vol</th>\n",
       "      <th>pre_sent</th>\n",
       "      <th>title_sent</th>\n",
       "      <th>hit</th>\n",
       "    </tr>\n",
       "  </thead>\n",
       "  <tbody>\n",
       "    <tr>\n",
       "      <th>0</th>\n",
       "      <td>0</td>\n",
       "      <td>0</td>\n",
       "      <td>1</td>\n",
       "      <td>0.9829</td>\n",
       "      <td>1</td>\n",
       "      <td>0</td>\n",
       "      <td>99</td>\n",
       "      <td>-0.9733</td>\n",
       "      <td>89</td>\n",
       "      <td>0.9993</td>\n",
       "      <td>0.0000</td>\n",
       "      <td>1</td>\n",
       "    </tr>\n",
       "    <tr>\n",
       "      <th>1</th>\n",
       "      <td>1</td>\n",
       "      <td>1</td>\n",
       "      <td>19</td>\n",
       "      <td>0.9751</td>\n",
       "      <td>1</td>\n",
       "      <td>1</td>\n",
       "      <td>2</td>\n",
       "      <td>-0.5267</td>\n",
       "      <td>88</td>\n",
       "      <td>-0.9992</td>\n",
       "      <td>0.0000</td>\n",
       "      <td>1</td>\n",
       "    </tr>\n",
       "    <tr>\n",
       "      <th>2</th>\n",
       "      <td>2</td>\n",
       "      <td>2</td>\n",
       "      <td>8</td>\n",
       "      <td>0.9935</td>\n",
       "      <td>1</td>\n",
       "      <td>1</td>\n",
       "      <td>86</td>\n",
       "      <td>0.8398</td>\n",
       "      <td>76</td>\n",
       "      <td>0.6159</td>\n",
       "      <td>0.0000</td>\n",
       "      <td>1</td>\n",
       "    </tr>\n",
       "    <tr>\n",
       "      <th>3</th>\n",
       "      <td>3</td>\n",
       "      <td>3</td>\n",
       "      <td>17</td>\n",
       "      <td>0.9946</td>\n",
       "      <td>1</td>\n",
       "      <td>0</td>\n",
       "      <td>91</td>\n",
       "      <td>0.9995</td>\n",
       "      <td>91</td>\n",
       "      <td>0.9995</td>\n",
       "      <td>0.1779</td>\n",
       "      <td>1</td>\n",
       "    </tr>\n",
       "    <tr>\n",
       "      <th>4</th>\n",
       "      <td>4</td>\n",
       "      <td>4</td>\n",
       "      <td>13</td>\n",
       "      <td>0.9863</td>\n",
       "      <td>1</td>\n",
       "      <td>0</td>\n",
       "      <td>96</td>\n",
       "      <td>0.9996</td>\n",
       "      <td>88</td>\n",
       "      <td>0.9993</td>\n",
       "      <td>0.0000</td>\n",
       "      <td>1</td>\n",
       "    </tr>\n",
       "    <tr>\n",
       "      <th>...</th>\n",
       "      <td>...</td>\n",
       "      <td>...</td>\n",
       "      <td>...</td>\n",
       "      <td>...</td>\n",
       "      <td>...</td>\n",
       "      <td>...</td>\n",
       "      <td>...</td>\n",
       "      <td>...</td>\n",
       "      <td>...</td>\n",
       "      <td>...</td>\n",
       "      <td>...</td>\n",
       "      <td>...</td>\n",
       "    </tr>\n",
       "    <tr>\n",
       "      <th>5010</th>\n",
       "      <td>5010</td>\n",
       "      <td>5010</td>\n",
       "      <td>1</td>\n",
       "      <td>-0.9918</td>\n",
       "      <td>-1</td>\n",
       "      <td>1</td>\n",
       "      <td>12</td>\n",
       "      <td>0.9321</td>\n",
       "      <td>99</td>\n",
       "      <td>0.9939</td>\n",
       "      <td>0.0000</td>\n",
       "      <td>0</td>\n",
       "    </tr>\n",
       "    <tr>\n",
       "      <th>5011</th>\n",
       "      <td>5011</td>\n",
       "      <td>5011</td>\n",
       "      <td>2</td>\n",
       "      <td>-0.9785</td>\n",
       "      <td>-1</td>\n",
       "      <td>1</td>\n",
       "      <td>32</td>\n",
       "      <td>-0.9856</td>\n",
       "      <td>27</td>\n",
       "      <td>-0.9748</td>\n",
       "      <td>-0.3400</td>\n",
       "      <td>0</td>\n",
       "    </tr>\n",
       "    <tr>\n",
       "      <th>5012</th>\n",
       "      <td>5012</td>\n",
       "      <td>5012</td>\n",
       "      <td>7</td>\n",
       "      <td>-0.4019</td>\n",
       "      <td>-1</td>\n",
       "      <td>1</td>\n",
       "      <td>6</td>\n",
       "      <td>0.4738</td>\n",
       "      <td>98</td>\n",
       "      <td>0.7379</td>\n",
       "      <td>0.0000</td>\n",
       "      <td>0</td>\n",
       "    </tr>\n",
       "    <tr>\n",
       "      <th>5013</th>\n",
       "      <td>5013</td>\n",
       "      <td>5013</td>\n",
       "      <td>15</td>\n",
       "      <td>0.7851</td>\n",
       "      <td>1</td>\n",
       "      <td>0</td>\n",
       "      <td>11</td>\n",
       "      <td>0.7580</td>\n",
       "      <td>30</td>\n",
       "      <td>0.8879</td>\n",
       "      <td>0.0000</td>\n",
       "      <td>0</td>\n",
       "    </tr>\n",
       "    <tr>\n",
       "      <th>5014</th>\n",
       "      <td>5014</td>\n",
       "      <td>5014</td>\n",
       "      <td>43</td>\n",
       "      <td>0.9967</td>\n",
       "      <td>1</td>\n",
       "      <td>0</td>\n",
       "      <td>100</td>\n",
       "      <td>-0.7571</td>\n",
       "      <td>99</td>\n",
       "      <td>0.9850</td>\n",
       "      <td>0.4404</td>\n",
       "      <td>1</td>\n",
       "    </tr>\n",
       "  </tbody>\n",
       "</table>\n",
       "<p>5015 rows × 12 columns</p>\n",
       "</div>"
      ],
      "text/plain": [
       "      Unnamed: 0    id  weeks  lyric_sent  lyric_lab  lyric_ex  np_vol  \\\n",
       "0              0     0      1      0.9829          1         0      99   \n",
       "1              1     1     19      0.9751          1         1       2   \n",
       "2              2     2      8      0.9935          1         1      86   \n",
       "3              3     3     17      0.9946          1         0      91   \n",
       "4              4     4     13      0.9863          1         0      96   \n",
       "...          ...   ...    ...         ...        ...       ...     ...   \n",
       "5010        5010  5010      1     -0.9918         -1         1      12   \n",
       "5011        5011  5011      2     -0.9785         -1         1      32   \n",
       "5012        5012  5012      7     -0.4019         -1         1       6   \n",
       "5013        5013  5013     15      0.7851          1         0      11   \n",
       "5014        5014  5014     43      0.9967          1         0     100   \n",
       "\n",
       "      np_sent  pre_vol  pre_sent  title_sent  hit  \n",
       "0     -0.9733       89    0.9993      0.0000    1  \n",
       "1     -0.5267       88   -0.9992      0.0000    1  \n",
       "2      0.8398       76    0.6159      0.0000    1  \n",
       "3      0.9995       91    0.9995      0.1779    1  \n",
       "4      0.9996       88    0.9993      0.0000    1  \n",
       "...       ...      ...       ...         ...  ...  \n",
       "5010   0.9321       99    0.9939      0.0000    0  \n",
       "5011  -0.9856       27   -0.9748     -0.3400    0  \n",
       "5012   0.4738       98    0.7379      0.0000    0  \n",
       "5013   0.7580       30    0.8879      0.0000    0  \n",
       "5014  -0.7571       99    0.9850      0.4404    1  \n",
       "\n",
       "[5015 rows x 12 columns]"
      ]
     },
     "execution_count": 4,
     "metadata": {},
     "output_type": "execute_result"
    }
   ],
   "source": [
    "df_top10"
   ]
  },
  {
   "cell_type": "code",
   "execution_count": 5,
   "metadata": {},
   "outputs": [],
   "source": [
    "df = pd.read_csv(r'2015_2020_nowplaying.csv')"
   ]
  },
  {
   "cell_type": "code",
   "execution_count": 6,
   "metadata": {},
   "outputs": [],
   "source": [
    "peaks = []\n",
    "for x in range(0, 5015, 1):\n",
    "    p = df['peak_date'][x]\n",
    "    peaks.append(p)"
   ]
  },
  {
   "cell_type": "code",
   "execution_count": 7,
   "metadata": {},
   "outputs": [],
   "source": [
    "years = []\n",
    "for x in range(0, 5015, 1):\n",
    "    whole = peaks[x]\n",
    "    year = whole[:4]\n",
    "    years.append(year)"
   ]
  },
  {
   "cell_type": "code",
   "execution_count": 8,
   "metadata": {},
   "outputs": [],
   "source": [
    "df_top10['peak_year'] = years\n",
    "df_spot75['peak_year'] = years"
   ]
  },
  {
   "cell_type": "code",
   "execution_count": 9,
   "metadata": {},
   "outputs": [
    {
     "data": {
      "text/html": [
       "<div>\n",
       "<style scoped>\n",
       "    .dataframe tbody tr th:only-of-type {\n",
       "        vertical-align: middle;\n",
       "    }\n",
       "\n",
       "    .dataframe tbody tr th {\n",
       "        vertical-align: top;\n",
       "    }\n",
       "\n",
       "    .dataframe thead th {\n",
       "        text-align: right;\n",
       "    }\n",
       "</style>\n",
       "<table border=\"1\" class=\"dataframe\">\n",
       "  <thead>\n",
       "    <tr style=\"text-align: right;\">\n",
       "      <th></th>\n",
       "      <th>Unnamed: 0</th>\n",
       "      <th>id</th>\n",
       "      <th>weeks</th>\n",
       "      <th>lyric_sent</th>\n",
       "      <th>lyric_lab</th>\n",
       "      <th>lyric_ex</th>\n",
       "      <th>np_vol</th>\n",
       "      <th>np_sent</th>\n",
       "      <th>pre_vol</th>\n",
       "      <th>pre_sent</th>\n",
       "      <th>title_sent</th>\n",
       "      <th>hit</th>\n",
       "      <th>peak_year</th>\n",
       "    </tr>\n",
       "  </thead>\n",
       "  <tbody>\n",
       "    <tr>\n",
       "      <th>0</th>\n",
       "      <td>0</td>\n",
       "      <td>0</td>\n",
       "      <td>1</td>\n",
       "      <td>0.9829</td>\n",
       "      <td>1</td>\n",
       "      <td>0</td>\n",
       "      <td>99</td>\n",
       "      <td>-0.9733</td>\n",
       "      <td>89</td>\n",
       "      <td>0.9993</td>\n",
       "      <td>0.0000</td>\n",
       "      <td>1</td>\n",
       "      <td>2020</td>\n",
       "    </tr>\n",
       "    <tr>\n",
       "      <th>1</th>\n",
       "      <td>1</td>\n",
       "      <td>1</td>\n",
       "      <td>19</td>\n",
       "      <td>0.9751</td>\n",
       "      <td>1</td>\n",
       "      <td>1</td>\n",
       "      <td>2</td>\n",
       "      <td>-0.5267</td>\n",
       "      <td>88</td>\n",
       "      <td>-0.9992</td>\n",
       "      <td>0.0000</td>\n",
       "      <td>1</td>\n",
       "      <td>2020</td>\n",
       "    </tr>\n",
       "    <tr>\n",
       "      <th>2</th>\n",
       "      <td>2</td>\n",
       "      <td>2</td>\n",
       "      <td>8</td>\n",
       "      <td>0.9935</td>\n",
       "      <td>1</td>\n",
       "      <td>1</td>\n",
       "      <td>86</td>\n",
       "      <td>0.8398</td>\n",
       "      <td>76</td>\n",
       "      <td>0.6159</td>\n",
       "      <td>0.0000</td>\n",
       "      <td>1</td>\n",
       "      <td>2020</td>\n",
       "    </tr>\n",
       "    <tr>\n",
       "      <th>3</th>\n",
       "      <td>3</td>\n",
       "      <td>3</td>\n",
       "      <td>17</td>\n",
       "      <td>0.9946</td>\n",
       "      <td>1</td>\n",
       "      <td>0</td>\n",
       "      <td>91</td>\n",
       "      <td>0.9995</td>\n",
       "      <td>91</td>\n",
       "      <td>0.9995</td>\n",
       "      <td>0.1779</td>\n",
       "      <td>1</td>\n",
       "      <td>2020</td>\n",
       "    </tr>\n",
       "    <tr>\n",
       "      <th>4</th>\n",
       "      <td>4</td>\n",
       "      <td>4</td>\n",
       "      <td>13</td>\n",
       "      <td>0.9863</td>\n",
       "      <td>1</td>\n",
       "      <td>0</td>\n",
       "      <td>96</td>\n",
       "      <td>0.9996</td>\n",
       "      <td>88</td>\n",
       "      <td>0.9993</td>\n",
       "      <td>0.0000</td>\n",
       "      <td>1</td>\n",
       "      <td>2020</td>\n",
       "    </tr>\n",
       "    <tr>\n",
       "      <th>...</th>\n",
       "      <td>...</td>\n",
       "      <td>...</td>\n",
       "      <td>...</td>\n",
       "      <td>...</td>\n",
       "      <td>...</td>\n",
       "      <td>...</td>\n",
       "      <td>...</td>\n",
       "      <td>...</td>\n",
       "      <td>...</td>\n",
       "      <td>...</td>\n",
       "      <td>...</td>\n",
       "      <td>...</td>\n",
       "      <td>...</td>\n",
       "    </tr>\n",
       "    <tr>\n",
       "      <th>5010</th>\n",
       "      <td>5010</td>\n",
       "      <td>5010</td>\n",
       "      <td>1</td>\n",
       "      <td>-0.9918</td>\n",
       "      <td>-1</td>\n",
       "      <td>1</td>\n",
       "      <td>12</td>\n",
       "      <td>0.9321</td>\n",
       "      <td>99</td>\n",
       "      <td>0.9939</td>\n",
       "      <td>0.0000</td>\n",
       "      <td>0</td>\n",
       "      <td>2010</td>\n",
       "    </tr>\n",
       "    <tr>\n",
       "      <th>5011</th>\n",
       "      <td>5011</td>\n",
       "      <td>5011</td>\n",
       "      <td>2</td>\n",
       "      <td>-0.9785</td>\n",
       "      <td>-1</td>\n",
       "      <td>1</td>\n",
       "      <td>32</td>\n",
       "      <td>-0.9856</td>\n",
       "      <td>27</td>\n",
       "      <td>-0.9748</td>\n",
       "      <td>-0.3400</td>\n",
       "      <td>0</td>\n",
       "      <td>2010</td>\n",
       "    </tr>\n",
       "    <tr>\n",
       "      <th>5012</th>\n",
       "      <td>5012</td>\n",
       "      <td>5012</td>\n",
       "      <td>7</td>\n",
       "      <td>-0.4019</td>\n",
       "      <td>-1</td>\n",
       "      <td>1</td>\n",
       "      <td>6</td>\n",
       "      <td>0.4738</td>\n",
       "      <td>98</td>\n",
       "      <td>0.7379</td>\n",
       "      <td>0.0000</td>\n",
       "      <td>0</td>\n",
       "      <td>2010</td>\n",
       "    </tr>\n",
       "    <tr>\n",
       "      <th>5013</th>\n",
       "      <td>5013</td>\n",
       "      <td>5013</td>\n",
       "      <td>15</td>\n",
       "      <td>0.7851</td>\n",
       "      <td>1</td>\n",
       "      <td>0</td>\n",
       "      <td>11</td>\n",
       "      <td>0.7580</td>\n",
       "      <td>30</td>\n",
       "      <td>0.8879</td>\n",
       "      <td>0.0000</td>\n",
       "      <td>0</td>\n",
       "      <td>2019</td>\n",
       "    </tr>\n",
       "    <tr>\n",
       "      <th>5014</th>\n",
       "      <td>5014</td>\n",
       "      <td>5014</td>\n",
       "      <td>43</td>\n",
       "      <td>0.9967</td>\n",
       "      <td>1</td>\n",
       "      <td>0</td>\n",
       "      <td>100</td>\n",
       "      <td>-0.7571</td>\n",
       "      <td>99</td>\n",
       "      <td>0.9850</td>\n",
       "      <td>0.4404</td>\n",
       "      <td>1</td>\n",
       "      <td>2014</td>\n",
       "    </tr>\n",
       "  </tbody>\n",
       "</table>\n",
       "<p>5015 rows × 13 columns</p>\n",
       "</div>"
      ],
      "text/plain": [
       "      Unnamed: 0    id  weeks  lyric_sent  lyric_lab  lyric_ex  np_vol  \\\n",
       "0              0     0      1      0.9829          1         0      99   \n",
       "1              1     1     19      0.9751          1         1       2   \n",
       "2              2     2      8      0.9935          1         1      86   \n",
       "3              3     3     17      0.9946          1         0      91   \n",
       "4              4     4     13      0.9863          1         0      96   \n",
       "...          ...   ...    ...         ...        ...       ...     ...   \n",
       "5010        5010  5010      1     -0.9918         -1         1      12   \n",
       "5011        5011  5011      2     -0.9785         -1         1      32   \n",
       "5012        5012  5012      7     -0.4019         -1         1       6   \n",
       "5013        5013  5013     15      0.7851          1         0      11   \n",
       "5014        5014  5014     43      0.9967          1         0     100   \n",
       "\n",
       "      np_sent  pre_vol  pre_sent  title_sent  hit peak_year  \n",
       "0     -0.9733       89    0.9993      0.0000    1      2020  \n",
       "1     -0.5267       88   -0.9992      0.0000    1      2020  \n",
       "2      0.8398       76    0.6159      0.0000    1      2020  \n",
       "3      0.9995       91    0.9995      0.1779    1      2020  \n",
       "4      0.9996       88    0.9993      0.0000    1      2020  \n",
       "...       ...      ...       ...         ...  ...       ...  \n",
       "5010   0.9321       99    0.9939      0.0000    0      2010  \n",
       "5011  -0.9856       27   -0.9748     -0.3400    0      2010  \n",
       "5012   0.4738       98    0.7379      0.0000    0      2010  \n",
       "5013   0.7580       30    0.8879      0.0000    0      2019  \n",
       "5014  -0.7571       99    0.9850      0.4404    1      2014  \n",
       "\n",
       "[5015 rows x 13 columns]"
      ]
     },
     "execution_count": 9,
     "metadata": {},
     "output_type": "execute_result"
    }
   ],
   "source": [
    "df_spot75"
   ]
  },
  {
   "cell_type": "markdown",
   "metadata": {},
   "source": [
    "# Looking at year difference for top 10"
   ]
  },
  {
   "cell_type": "code",
   "execution_count": 10,
   "metadata": {},
   "outputs": [],
   "source": [
    "import matplotlib.pyplot as plt"
   ]
  },
  {
   "cell_type": "markdown",
   "metadata": {},
   "source": [
    "We just want the hit songs"
   ]
  },
  {
   "cell_type": "code",
   "execution_count": 11,
   "metadata": {},
   "outputs": [
    {
     "data": {
      "text/plain": [
       "0    4421\n",
       "1     594\n",
       "Name: hit, dtype: int64"
      ]
     },
     "execution_count": 11,
     "metadata": {},
     "output_type": "execute_result"
    }
   ],
   "source": [
    "df_top10.hit.value_counts()"
   ]
  },
  {
   "cell_type": "code",
   "execution_count": 12,
   "metadata": {},
   "outputs": [],
   "source": [
    "df_top10_hits = df_top10.loc[df_top10['hit'] == 1]"
   ]
  },
  {
   "cell_type": "code",
   "execution_count": 13,
   "metadata": {},
   "outputs": [
    {
     "data": {
      "text/html": [
       "<div>\n",
       "<style scoped>\n",
       "    .dataframe tbody tr th:only-of-type {\n",
       "        vertical-align: middle;\n",
       "    }\n",
       "\n",
       "    .dataframe tbody tr th {\n",
       "        vertical-align: top;\n",
       "    }\n",
       "\n",
       "    .dataframe thead th {\n",
       "        text-align: right;\n",
       "    }\n",
       "</style>\n",
       "<table border=\"1\" class=\"dataframe\">\n",
       "  <thead>\n",
       "    <tr style=\"text-align: right;\">\n",
       "      <th></th>\n",
       "      <th>Unnamed: 0</th>\n",
       "      <th>id</th>\n",
       "      <th>weeks</th>\n",
       "      <th>lyric_sent</th>\n",
       "      <th>lyric_lab</th>\n",
       "      <th>lyric_ex</th>\n",
       "      <th>np_vol</th>\n",
       "      <th>np_sent</th>\n",
       "      <th>pre_vol</th>\n",
       "      <th>pre_sent</th>\n",
       "      <th>title_sent</th>\n",
       "      <th>hit</th>\n",
       "      <th>peak_year</th>\n",
       "    </tr>\n",
       "  </thead>\n",
       "  <tbody>\n",
       "    <tr>\n",
       "      <th>0</th>\n",
       "      <td>0</td>\n",
       "      <td>0</td>\n",
       "      <td>1</td>\n",
       "      <td>0.9829</td>\n",
       "      <td>1</td>\n",
       "      <td>0</td>\n",
       "      <td>99</td>\n",
       "      <td>-0.9733</td>\n",
       "      <td>89</td>\n",
       "      <td>0.9993</td>\n",
       "      <td>0.0000</td>\n",
       "      <td>1</td>\n",
       "      <td>2020</td>\n",
       "    </tr>\n",
       "    <tr>\n",
       "      <th>1</th>\n",
       "      <td>1</td>\n",
       "      <td>1</td>\n",
       "      <td>19</td>\n",
       "      <td>0.9751</td>\n",
       "      <td>1</td>\n",
       "      <td>1</td>\n",
       "      <td>2</td>\n",
       "      <td>-0.5267</td>\n",
       "      <td>88</td>\n",
       "      <td>-0.9992</td>\n",
       "      <td>0.0000</td>\n",
       "      <td>1</td>\n",
       "      <td>2020</td>\n",
       "    </tr>\n",
       "    <tr>\n",
       "      <th>2</th>\n",
       "      <td>2</td>\n",
       "      <td>2</td>\n",
       "      <td>8</td>\n",
       "      <td>0.9935</td>\n",
       "      <td>1</td>\n",
       "      <td>1</td>\n",
       "      <td>86</td>\n",
       "      <td>0.8398</td>\n",
       "      <td>76</td>\n",
       "      <td>0.6159</td>\n",
       "      <td>0.0000</td>\n",
       "      <td>1</td>\n",
       "      <td>2020</td>\n",
       "    </tr>\n",
       "    <tr>\n",
       "      <th>3</th>\n",
       "      <td>3</td>\n",
       "      <td>3</td>\n",
       "      <td>17</td>\n",
       "      <td>0.9946</td>\n",
       "      <td>1</td>\n",
       "      <td>0</td>\n",
       "      <td>91</td>\n",
       "      <td>0.9995</td>\n",
       "      <td>91</td>\n",
       "      <td>0.9995</td>\n",
       "      <td>0.1779</td>\n",
       "      <td>1</td>\n",
       "      <td>2020</td>\n",
       "    </tr>\n",
       "    <tr>\n",
       "      <th>4</th>\n",
       "      <td>4</td>\n",
       "      <td>4</td>\n",
       "      <td>13</td>\n",
       "      <td>0.9863</td>\n",
       "      <td>1</td>\n",
       "      <td>0</td>\n",
       "      <td>96</td>\n",
       "      <td>0.9996</td>\n",
       "      <td>88</td>\n",
       "      <td>0.9993</td>\n",
       "      <td>0.0000</td>\n",
       "      <td>1</td>\n",
       "      <td>2020</td>\n",
       "    </tr>\n",
       "    <tr>\n",
       "      <th>...</th>\n",
       "      <td>...</td>\n",
       "      <td>...</td>\n",
       "      <td>...</td>\n",
       "      <td>...</td>\n",
       "      <td>...</td>\n",
       "      <td>...</td>\n",
       "      <td>...</td>\n",
       "      <td>...</td>\n",
       "      <td>...</td>\n",
       "      <td>...</td>\n",
       "      <td>...</td>\n",
       "      <td>...</td>\n",
       "      <td>...</td>\n",
       "    </tr>\n",
       "    <tr>\n",
       "      <th>4958</th>\n",
       "      <td>4958</td>\n",
       "      <td>4958</td>\n",
       "      <td>20</td>\n",
       "      <td>0.9646</td>\n",
       "      <td>1</td>\n",
       "      <td>0</td>\n",
       "      <td>8</td>\n",
       "      <td>0.0000</td>\n",
       "      <td>100</td>\n",
       "      <td>0.9682</td>\n",
       "      <td>0.0000</td>\n",
       "      <td>1</td>\n",
       "      <td>2010</td>\n",
       "    </tr>\n",
       "    <tr>\n",
       "      <th>4970</th>\n",
       "      <td>4970</td>\n",
       "      <td>4970</td>\n",
       "      <td>29</td>\n",
       "      <td>0.9989</td>\n",
       "      <td>1</td>\n",
       "      <td>0</td>\n",
       "      <td>87</td>\n",
       "      <td>0.9992</td>\n",
       "      <td>99</td>\n",
       "      <td>0.9970</td>\n",
       "      <td>0.6908</td>\n",
       "      <td>1</td>\n",
       "      <td>2010</td>\n",
       "    </tr>\n",
       "    <tr>\n",
       "      <th>4986</th>\n",
       "      <td>4986</td>\n",
       "      <td>4986</td>\n",
       "      <td>14</td>\n",
       "      <td>-0.9723</td>\n",
       "      <td>-1</td>\n",
       "      <td>1</td>\n",
       "      <td>32</td>\n",
       "      <td>-0.8544</td>\n",
       "      <td>100</td>\n",
       "      <td>0.9795</td>\n",
       "      <td>0.0000</td>\n",
       "      <td>1</td>\n",
       "      <td>2010</td>\n",
       "    </tr>\n",
       "    <tr>\n",
       "      <th>4997</th>\n",
       "      <td>4997</td>\n",
       "      <td>4997</td>\n",
       "      <td>23</td>\n",
       "      <td>0.9913</td>\n",
       "      <td>1</td>\n",
       "      <td>1</td>\n",
       "      <td>1</td>\n",
       "      <td>0.0000</td>\n",
       "      <td>100</td>\n",
       "      <td>0.9112</td>\n",
       "      <td>0.0000</td>\n",
       "      <td>1</td>\n",
       "      <td>2010</td>\n",
       "    </tr>\n",
       "    <tr>\n",
       "      <th>5014</th>\n",
       "      <td>5014</td>\n",
       "      <td>5014</td>\n",
       "      <td>43</td>\n",
       "      <td>0.9967</td>\n",
       "      <td>1</td>\n",
       "      <td>0</td>\n",
       "      <td>100</td>\n",
       "      <td>-0.7571</td>\n",
       "      <td>99</td>\n",
       "      <td>0.9850</td>\n",
       "      <td>0.4404</td>\n",
       "      <td>1</td>\n",
       "      <td>2014</td>\n",
       "    </tr>\n",
       "  </tbody>\n",
       "</table>\n",
       "<p>594 rows × 13 columns</p>\n",
       "</div>"
      ],
      "text/plain": [
       "      Unnamed: 0    id  weeks  lyric_sent  lyric_lab  lyric_ex  np_vol  \\\n",
       "0              0     0      1      0.9829          1         0      99   \n",
       "1              1     1     19      0.9751          1         1       2   \n",
       "2              2     2      8      0.9935          1         1      86   \n",
       "3              3     3     17      0.9946          1         0      91   \n",
       "4              4     4     13      0.9863          1         0      96   \n",
       "...          ...   ...    ...         ...        ...       ...     ...   \n",
       "4958        4958  4958     20      0.9646          1         0       8   \n",
       "4970        4970  4970     29      0.9989          1         0      87   \n",
       "4986        4986  4986     14     -0.9723         -1         1      32   \n",
       "4997        4997  4997     23      0.9913          1         1       1   \n",
       "5014        5014  5014     43      0.9967          1         0     100   \n",
       "\n",
       "      np_sent  pre_vol  pre_sent  title_sent  hit peak_year  \n",
       "0     -0.9733       89    0.9993      0.0000    1      2020  \n",
       "1     -0.5267       88   -0.9992      0.0000    1      2020  \n",
       "2      0.8398       76    0.6159      0.0000    1      2020  \n",
       "3      0.9995       91    0.9995      0.1779    1      2020  \n",
       "4      0.9996       88    0.9993      0.0000    1      2020  \n",
       "...       ...      ...       ...         ...  ...       ...  \n",
       "4958   0.0000      100    0.9682      0.0000    1      2010  \n",
       "4970   0.9992       99    0.9970      0.6908    1      2010  \n",
       "4986  -0.8544      100    0.9795      0.0000    1      2010  \n",
       "4997   0.0000      100    0.9112      0.0000    1      2010  \n",
       "5014  -0.7571       99    0.9850      0.4404    1      2014  \n",
       "\n",
       "[594 rows x 13 columns]"
      ]
     },
     "execution_count": 13,
     "metadata": {},
     "output_type": "execute_result"
    }
   ],
   "source": [
    "df_top10_hits"
   ]
  },
  {
   "cell_type": "code",
   "execution_count": 14,
   "metadata": {},
   "outputs": [
    {
     "data": {
      "text/plain": [
       "2020    89\n",
       "2018    68\n",
       "2011    56\n",
       "2010    56\n",
       "2013    54\n",
       "2016    50\n",
       "2017    49\n",
       "2012    49\n",
       "2014    44\n",
       "2015    41\n",
       "2019    38\n",
       "Name: peak_year, dtype: int64"
      ]
     },
     "execution_count": 14,
     "metadata": {},
     "output_type": "execute_result"
    }
   ],
   "source": [
    "df_top10_hits.peak_year.value_counts()"
   ]
  },
  {
   "cell_type": "code",
   "execution_count": 15,
   "metadata": {},
   "outputs": [
    {
     "data": {
      "text/plain": [
       "Text(0, 0.5, 'Count')"
      ]
     },
     "execution_count": 15,
     "metadata": {},
     "output_type": "execute_result"
    },
    {
     "data": {
      "image/png": "[encoded data removed]",
      "text/plain": [
       "<Figure size 648x216 with 1 Axes>"
      ]
     },
     "metadata": {
      "needs_background": "light"
     },
     "output_type": "display_data"
    }
   ],
   "source": [
    "years = [2010, 2011, 2012, 2013, 2014, 2015, 2016, 2017, 2018, 2019, 2020]\n",
    "hits = [56, 56, 49, 54, 44, 41, 50, 49, 68, 38, 89]\n",
    "plt.figure(figsize=(9,3))\n",
    "plt.bar(years, hits, color = \"orange\")\n",
    "plt.title(\"Volume of Top 10 hit songs from each year\")\n",
    "plt.xlabel(\"Years\")\n",
    "plt.ylabel(\"Count\")"
   ]
  },
  {
   "cell_type": "code",
   "execution_count": null,
   "metadata": {},
   "outputs": [],
   "source": []
  },
  {
   "cell_type": "code",
   "execution_count": 16,
   "metadata": {},
   "outputs": [],
   "source": [
    "df_top10_2020 = df_top10_hits.loc[df_top10_hits['peak_year'] == '2020']"
   ]
  },
  {
   "cell_type": "code",
   "execution_count": 17,
   "metadata": {},
   "outputs": [
    {
     "data": {
      "text/html": [
       "<div>\n",
       "<style scoped>\n",
       "    .dataframe tbody tr th:only-of-type {\n",
       "        vertical-align: middle;\n",
       "    }\n",
       "\n",
       "    .dataframe tbody tr th {\n",
       "        vertical-align: top;\n",
       "    }\n",
       "\n",
       "    .dataframe thead th {\n",
       "        text-align: right;\n",
       "    }\n",
       "</style>\n",
       "<table border=\"1\" class=\"dataframe\">\n",
       "  <thead>\n",
       "    <tr style=\"text-align: right;\">\n",
       "      <th></th>\n",
       "      <th>Unnamed: 0</th>\n",
       "      <th>id</th>\n",
       "      <th>weeks</th>\n",
       "      <th>lyric_sent</th>\n",
       "      <th>lyric_lab</th>\n",
       "      <th>lyric_ex</th>\n",
       "      <th>np_vol</th>\n",
       "      <th>np_sent</th>\n",
       "      <th>pre_vol</th>\n",
       "      <th>pre_sent</th>\n",
       "      <th>title_sent</th>\n",
       "      <th>hit</th>\n",
       "      <th>peak_year</th>\n",
       "    </tr>\n",
       "  </thead>\n",
       "  <tbody>\n",
       "    <tr>\n",
       "      <th>0</th>\n",
       "      <td>0</td>\n",
       "      <td>0</td>\n",
       "      <td>1</td>\n",
       "      <td>0.9829</td>\n",
       "      <td>1</td>\n",
       "      <td>0</td>\n",
       "      <td>99</td>\n",
       "      <td>-0.9733</td>\n",
       "      <td>89</td>\n",
       "      <td>0.9993</td>\n",
       "      <td>0.0000</td>\n",
       "      <td>1</td>\n",
       "      <td>2020</td>\n",
       "    </tr>\n",
       "    <tr>\n",
       "      <th>1</th>\n",
       "      <td>1</td>\n",
       "      <td>1</td>\n",
       "      <td>19</td>\n",
       "      <td>0.9751</td>\n",
       "      <td>1</td>\n",
       "      <td>1</td>\n",
       "      <td>2</td>\n",
       "      <td>-0.5267</td>\n",
       "      <td>88</td>\n",
       "      <td>-0.9992</td>\n",
       "      <td>0.0000</td>\n",
       "      <td>1</td>\n",
       "      <td>2020</td>\n",
       "    </tr>\n",
       "    <tr>\n",
       "      <th>2</th>\n",
       "      <td>2</td>\n",
       "      <td>2</td>\n",
       "      <td>8</td>\n",
       "      <td>0.9935</td>\n",
       "      <td>1</td>\n",
       "      <td>1</td>\n",
       "      <td>86</td>\n",
       "      <td>0.8398</td>\n",
       "      <td>76</td>\n",
       "      <td>0.6159</td>\n",
       "      <td>0.0000</td>\n",
       "      <td>1</td>\n",
       "      <td>2020</td>\n",
       "    </tr>\n",
       "    <tr>\n",
       "      <th>3</th>\n",
       "      <td>3</td>\n",
       "      <td>3</td>\n",
       "      <td>17</td>\n",
       "      <td>0.9946</td>\n",
       "      <td>1</td>\n",
       "      <td>0</td>\n",
       "      <td>91</td>\n",
       "      <td>0.9995</td>\n",
       "      <td>91</td>\n",
       "      <td>0.9995</td>\n",
       "      <td>0.1779</td>\n",
       "      <td>1</td>\n",
       "      <td>2020</td>\n",
       "    </tr>\n",
       "    <tr>\n",
       "      <th>4</th>\n",
       "      <td>4</td>\n",
       "      <td>4</td>\n",
       "      <td>13</td>\n",
       "      <td>0.9863</td>\n",
       "      <td>1</td>\n",
       "      <td>0</td>\n",
       "      <td>96</td>\n",
       "      <td>0.9996</td>\n",
       "      <td>88</td>\n",
       "      <td>0.9993</td>\n",
       "      <td>0.0000</td>\n",
       "      <td>1</td>\n",
       "      <td>2020</td>\n",
       "    </tr>\n",
       "    <tr>\n",
       "      <th>...</th>\n",
       "      <td>...</td>\n",
       "      <td>...</td>\n",
       "      <td>...</td>\n",
       "      <td>...</td>\n",
       "      <td>...</td>\n",
       "      <td>...</td>\n",
       "      <td>...</td>\n",
       "      <td>...</td>\n",
       "      <td>...</td>\n",
       "      <td>...</td>\n",
       "      <td>...</td>\n",
       "      <td>...</td>\n",
       "      <td>...</td>\n",
       "    </tr>\n",
       "    <tr>\n",
       "      <th>722</th>\n",
       "      <td>722</td>\n",
       "      <td>722</td>\n",
       "      <td>46</td>\n",
       "      <td>-0.9182</td>\n",
       "      <td>-1</td>\n",
       "      <td>0</td>\n",
       "      <td>99</td>\n",
       "      <td>0.8679</td>\n",
       "      <td>99</td>\n",
       "      <td>0.9999</td>\n",
       "      <td>0.0000</td>\n",
       "      <td>1</td>\n",
       "      <td>2020</td>\n",
       "    </tr>\n",
       "    <tr>\n",
       "      <th>724</th>\n",
       "      <td>724</td>\n",
       "      <td>724</td>\n",
       "      <td>22</td>\n",
       "      <td>0.9963</td>\n",
       "      <td>1</td>\n",
       "      <td>0</td>\n",
       "      <td>95</td>\n",
       "      <td>0.9912</td>\n",
       "      <td>89</td>\n",
       "      <td>0.9916</td>\n",
       "      <td>0.5859</td>\n",
       "      <td>1</td>\n",
       "      <td>2020</td>\n",
       "    </tr>\n",
       "    <tr>\n",
       "      <th>739</th>\n",
       "      <td>739</td>\n",
       "      <td>739</td>\n",
       "      <td>45</td>\n",
       "      <td>0.9643</td>\n",
       "      <td>1</td>\n",
       "      <td>0</td>\n",
       "      <td>100</td>\n",
       "      <td>0.8741</td>\n",
       "      <td>96</td>\n",
       "      <td>0.9997</td>\n",
       "      <td>0.0000</td>\n",
       "      <td>1</td>\n",
       "      <td>2020</td>\n",
       "    </tr>\n",
       "    <tr>\n",
       "      <th>740</th>\n",
       "      <td>740</td>\n",
       "      <td>740</td>\n",
       "      <td>37</td>\n",
       "      <td>0.9877</td>\n",
       "      <td>1</td>\n",
       "      <td>1</td>\n",
       "      <td>31</td>\n",
       "      <td>0.0000</td>\n",
       "      <td>28</td>\n",
       "      <td>-0.6776</td>\n",
       "      <td>0.0000</td>\n",
       "      <td>1</td>\n",
       "      <td>2020</td>\n",
       "    </tr>\n",
       "    <tr>\n",
       "      <th>746</th>\n",
       "      <td>746</td>\n",
       "      <td>746</td>\n",
       "      <td>31</td>\n",
       "      <td>-0.9786</td>\n",
       "      <td>-1</td>\n",
       "      <td>1</td>\n",
       "      <td>38</td>\n",
       "      <td>0.4689</td>\n",
       "      <td>97</td>\n",
       "      <td>0.8723</td>\n",
       "      <td>0.0000</td>\n",
       "      <td>1</td>\n",
       "      <td>2020</td>\n",
       "    </tr>\n",
       "  </tbody>\n",
       "</table>\n",
       "<p>89 rows × 13 columns</p>\n",
       "</div>"
      ],
      "text/plain": [
       "     Unnamed: 0   id  weeks  lyric_sent  lyric_lab  lyric_ex  np_vol  np_sent  \\\n",
       "0             0    0      1      0.9829          1         0      99  -0.9733   \n",
       "1             1    1     19      0.9751          1         1       2  -0.5267   \n",
       "2             2    2      8      0.9935          1         1      86   0.8398   \n",
       "3             3    3     17      0.9946          1         0      91   0.9995   \n",
       "4             4    4     13      0.9863          1         0      96   0.9996   \n",
       "..          ...  ...    ...         ...        ...       ...     ...      ...   \n",
       "722         722  722     46     -0.9182         -1         0      99   0.8679   \n",
       "724         724  724     22      0.9963          1         0      95   0.9912   \n",
       "739         739  739     45      0.9643          1         0     100   0.8741   \n",
       "740         740  740     37      0.9877          1         1      31   0.0000   \n",
       "746         746  746     31     -0.9786         -1         1      38   0.4689   \n",
       "\n",
       "     pre_vol  pre_sent  title_sent  hit peak_year  \n",
       "0         89    0.9993      0.0000    1      2020  \n",
       "1         88   -0.9992      0.0000    1      2020  \n",
       "2         76    0.6159      0.0000    1      2020  \n",
       "3         91    0.9995      0.1779    1      2020  \n",
       "4         88    0.9993      0.0000    1      2020  \n",
       "..       ...       ...         ...  ...       ...  \n",
       "722       99    0.9999      0.0000    1      2020  \n",
       "724       89    0.9916      0.5859    1      2020  \n",
       "739       96    0.9997      0.0000    1      2020  \n",
       "740       28   -0.6776      0.0000    1      2020  \n",
       "746       97    0.8723      0.0000    1      2020  \n",
       "\n",
       "[89 rows x 13 columns]"
      ]
     },
     "execution_count": 17,
     "metadata": {},
     "output_type": "execute_result"
    }
   ],
   "source": [
    "df_top10_2020"
   ]
  },
  {
   "cell_type": "code",
   "execution_count": null,
   "metadata": {},
   "outputs": [],
   "source": []
  },
  {
   "cell_type": "code",
   "execution_count": 18,
   "metadata": {},
   "outputs": [],
   "source": [
    "df_top10_2020 = df_top10_hits.loc[df_top10_hits['peak_year'] == '2020']\n",
    "df_top10_2019 = df_top10_hits.loc[df_top10_hits['peak_year'] == '2019']\n",
    "df_top10_2018 = df_top10_hits.loc[df_top10_hits['peak_year'] == '2018']\n",
    "df_top10_2017 = df_top10_hits.loc[df_top10_hits['peak_year'] == '2017']\n",
    "df_top10_2016 = df_top10_hits.loc[df_top10_hits['peak_year'] == '2016']\n",
    "df_top10_2015 = df_top10_hits.loc[df_top10_hits['peak_year'] == '2015']\n",
    "df_top10_2014 = df_top10_hits.loc[df_top10_hits['peak_year'] == '2014']\n",
    "df_top10_2013 = df_top10_hits.loc[df_top10_hits['peak_year'] == '2013']\n",
    "df_top10_2012 = df_top10_hits.loc[df_top10_hits['peak_year'] == '2012']\n",
    "df_top10_2011 = df_top10_hits.loc[df_top10_hits['peak_year'] == '2011']\n",
    "df_top10_2010 = df_top10_hits.loc[df_top10_hits['peak_year'] == '2010']"
   ]
  },
  {
   "cell_type": "code",
   "execution_count": 19,
   "metadata": {},
   "outputs": [
    {
     "data": {
      "text/plain": [
       "<matplotlib.legend.Legend at 0x7fc33f6bc9d0>"
      ]
     },
     "execution_count": 19,
     "metadata": {},
     "output_type": "execute_result"
    },
    {
     "data": {
      "image/png": "[encoded data removed]",
      "text/plain": [
       "<Figure size 720x576 with 1 Axes>"
      ]
     },
     "metadata": {
      "needs_background": "light"
     },
     "output_type": "display_data"
    }
   ],
   "source": [
    "plt.figure(figsize=(10,8))\n",
    "plt.scatter(df_top10_2020.lyric_sent, df_top10_2020.title_sent, color='red')\n",
    "plt.scatter(df_top10_2019.lyric_sent, df_top10_2019.title_sent, color='orange')\n",
    "plt.scatter(df_top10_2018.lyric_sent, df_top10_2018.title_sent, color='yellow')\n",
    "plt.scatter(df_top10_2017.lyric_sent, df_top10_2017.title_sent, color='green')\n",
    "plt.scatter(df_top10_2016.lyric_sent, df_top10_2016.title_sent, color='darkgreen')\n",
    "plt.scatter(df_top10_2015.lyric_sent, df_top10_2015.title_sent, color='aqua')\n",
    "plt.scatter(df_top10_2014.lyric_sent, df_top10_2014.title_sent, color='blue')\n",
    "plt.scatter(df_top10_2013.lyric_sent, df_top10_2013.title_sent, color='darkblue')\n",
    "plt.scatter(df_top10_2012.lyric_sent, df_top10_2012.title_sent, color='mediumpurple')\n",
    "plt.scatter(df_top10_2011.lyric_sent, df_top10_2011.title_sent, color='pink')\n",
    "plt.scatter(df_top10_2010.lyric_sent, df_top10_2010.title_sent, color='hotpink')\n",
    "plt.ylabel('title_sent')\n",
    "plt.xlabel('lyric_sent')\n",
    "plt.legend(('2020','2019', '2018', '2017', '2016', '2015', '2014', '2013', '2012', '2011', '2010'))\n"
   ]
  },
  {
   "cell_type": "code",
   "execution_count": 20,
   "metadata": {},
   "outputs": [
    {
     "data": {
      "text/plain": [
       "<matplotlib.legend.Legend at 0x7fc340c1d760>"
      ]
     },
     "execution_count": 20,
     "metadata": {},
     "output_type": "execute_result"
    },
    {
     "data": {
      "image/png": "[encoded data removed]",
      "text/plain": [
       "<Figure size 720x576 with 1 Axes>"
      ]
     },
     "metadata": {
      "needs_background": "light"
     },
     "output_type": "display_data"
    }
   ],
   "source": [
    "plt.figure(figsize=(10,8))\n",
    "plt.scatter(df_top10_2020.np_vol, df_top10_2020.pre_vol, color='red')\n",
    "plt.scatter(df_top10_2019.np_vol, df_top10_2019.pre_vol, color='orange')\n",
    "plt.scatter(df_top10_2018.np_vol, df_top10_2018.pre_vol, color='yellow')\n",
    "plt.scatter(df_top10_2017.np_vol, df_top10_2017.pre_vol, color='green')\n",
    "plt.scatter(df_top10_2016.np_vol, df_top10_2016.pre_vol, color='darkgreen')\n",
    "plt.scatter(df_top10_2015.np_vol, df_top10_2015.pre_vol, color='aqua')\n",
    "plt.scatter(df_top10_2014.np_vol, df_top10_2014.pre_vol, color='blue')\n",
    "plt.scatter(df_top10_2013.np_vol, df_top10_2013.pre_vol, color='darkblue')\n",
    "plt.scatter(df_top10_2012.np_vol, df_top10_2012.pre_vol, color='mediumpurple')\n",
    "plt.scatter(df_top10_2011.np_vol, df_top10_2011.pre_vol, color='pink')\n",
    "plt.scatter(df_top10_2010.np_vol, df_top10_2010.pre_vol, color='hotpink')\n",
    "plt.ylabel('pre_vol')\n",
    "plt.xlabel('np_vol')\n",
    "plt.legend(('2020','2019', '2018', '2017', '2016', '2015', '2014', '2013', '2012', '2011', '2010'))"
   ]
  },
  {
   "cell_type": "markdown",
   "metadata": {},
   "source": [
    "Plot the amount of explicit songs for each year, relative to how many there are overall"
   ]
  },
  {
   "cell_type": "code",
   "execution_count": 21,
   "metadata": {},
   "outputs": [
    {
     "data": {
      "text/plain": [
       "0    43\n",
       "1    13\n",
       "Name: lyric_ex, dtype: int64"
      ]
     },
     "execution_count": 21,
     "metadata": {},
     "output_type": "execute_result"
    }
   ],
   "source": [
    "df_top10_2010.lyric_ex.value_counts()"
   ]
  },
  {
   "cell_type": "code",
   "execution_count": 22,
   "metadata": {},
   "outputs": [
    {
     "data": {
      "text/plain": [
       "0.7678571428571429"
      ]
     },
     "execution_count": 22,
     "metadata": {},
     "output_type": "execute_result"
    }
   ],
   "source": [
    "43/(43+13)"
   ]
  },
  {
   "cell_type": "code",
   "execution_count": 23,
   "metadata": {},
   "outputs": [],
   "source": [
    "colours = ['red', 'orange', 'yellow', 'green', 'darkgreen', 'aqua', 'blue', 'navy', 'mediumpurple', 'pink', 'hotpink']\n",
    "years = ['2010', '2011', '2012', '2013', '2014', '2015', '2016', '2017', '2018', '2019', '2020']\n",
    "values = [0.77, 0.75, 0.73, 0.79, 0.77, 0.76, 0.76, 0.57, 0.60, 0.61, 0.57]"
   ]
  },
  {
   "cell_type": "code",
   "execution_count": 24,
   "metadata": {},
   "outputs": [],
   "source": [
    "data = {'years': years, 'explicit %':values}\n",
    "\n",
    "\n",
    "years_explicit = pd.DataFrame(data)"
   ]
  },
  {
   "cell_type": "code",
   "execution_count": 25,
   "metadata": {},
   "outputs": [
    {
     "data": {
      "text/html": [
       "<div>\n",
       "<style scoped>\n",
       "    .dataframe tbody tr th:only-of-type {\n",
       "        vertical-align: middle;\n",
       "    }\n",
       "\n",
       "    .dataframe tbody tr th {\n",
       "        vertical-align: top;\n",
       "    }\n",
       "\n",
       "    .dataframe thead th {\n",
       "        text-align: right;\n",
       "    }\n",
       "</style>\n",
       "<table border=\"1\" class=\"dataframe\">\n",
       "  <thead>\n",
       "    <tr style=\"text-align: right;\">\n",
       "      <th></th>\n",
       "      <th>years</th>\n",
       "      <th>explicit %</th>\n",
       "    </tr>\n",
       "  </thead>\n",
       "  <tbody>\n",
       "    <tr>\n",
       "      <th>0</th>\n",
       "      <td>2010</td>\n",
       "      <td>0.77</td>\n",
       "    </tr>\n",
       "    <tr>\n",
       "      <th>1</th>\n",
       "      <td>2011</td>\n",
       "      <td>0.75</td>\n",
       "    </tr>\n",
       "    <tr>\n",
       "      <th>2</th>\n",
       "      <td>2012</td>\n",
       "      <td>0.73</td>\n",
       "    </tr>\n",
       "    <tr>\n",
       "      <th>3</th>\n",
       "      <td>2013</td>\n",
       "      <td>0.79</td>\n",
       "    </tr>\n",
       "    <tr>\n",
       "      <th>4</th>\n",
       "      <td>2014</td>\n",
       "      <td>0.77</td>\n",
       "    </tr>\n",
       "    <tr>\n",
       "      <th>5</th>\n",
       "      <td>2015</td>\n",
       "      <td>0.76</td>\n",
       "    </tr>\n",
       "    <tr>\n",
       "      <th>6</th>\n",
       "      <td>2016</td>\n",
       "      <td>0.76</td>\n",
       "    </tr>\n",
       "    <tr>\n",
       "      <th>7</th>\n",
       "      <td>2017</td>\n",
       "      <td>0.57</td>\n",
       "    </tr>\n",
       "    <tr>\n",
       "      <th>8</th>\n",
       "      <td>2018</td>\n",
       "      <td>0.60</td>\n",
       "    </tr>\n",
       "    <tr>\n",
       "      <th>9</th>\n",
       "      <td>2019</td>\n",
       "      <td>0.61</td>\n",
       "    </tr>\n",
       "    <tr>\n",
       "      <th>10</th>\n",
       "      <td>2020</td>\n",
       "      <td>0.57</td>\n",
       "    </tr>\n",
       "  </tbody>\n",
       "</table>\n",
       "</div>"
      ],
      "text/plain": [
       "   years  explicit %\n",
       "0   2010        0.77\n",
       "1   2011        0.75\n",
       "2   2012        0.73\n",
       "3   2013        0.79\n",
       "4   2014        0.77\n",
       "5   2015        0.76\n",
       "6   2016        0.76\n",
       "7   2017        0.57\n",
       "8   2018        0.60\n",
       "9   2019        0.61\n",
       "10  2020        0.57"
      ]
     },
     "execution_count": 25,
     "metadata": {},
     "output_type": "execute_result"
    }
   ],
   "source": [
    "years_explicit"
   ]
  },
  {
   "cell_type": "code",
   "execution_count": 26,
   "metadata": {},
   "outputs": [
    {
     "data": {
      "image/png": "[encoded data removed]",
      "text/plain": [
       "<Figure size 720x216 with 1 Axes>"
      ]
     },
     "metadata": {
      "needs_background": "light"
     },
     "output_type": "display_data"
    }
   ],
   "source": [
    "import numpy as np\n",
    "import matplotlib.pyplot as plt\n",
    " \n",
    "height = years_explicit['explicit %']\n",
    "bars = years_explicit['years']\n",
    "plt.figure(figsize=(10,3))\n",
    "plt.bar(bars, height, width=0.5, color='green', alpha=0.2)\n",
    "plt.plot(years_explicit['years'], years_explicit['explicit %'], c='black', linewidth=3)\n",
    "plt.title(\"% of Top 10 hit songs with explicit lyrics\")\n",
    "plt.xlabel('year')\n",
    "plt.ylabel('%')\n",
    "plt.ylim((0.3,0.85))\n",
    "plt.show()"
   ]
  },
  {
   "cell_type": "code",
   "execution_count": 27,
   "metadata": {},
   "outputs": [
    {
     "data": {
      "image/png": "[encoded data removed]",
      "text/plain": [
       "<Figure size 720x216 with 1 Axes>"
      ]
     },
     "metadata": {
      "needs_background": "light"
     },
     "output_type": "display_data"
    }
   ],
   "source": [
    "plt.figure(figsize=(10,3))\n",
    "plt.bar(bars, height, width=0.5, color='green')\n",
    "plt.title(\"% of Top 10 hit songs with explicit lyrics\")\n",
    "plt.xlabel('year')\n",
    "plt.ylabel('%')\n",
    "plt.ylim((0,0.85))\n",
    "plt.show()"
   ]
  },
  {
   "cell_type": "code",
   "execution_count": 28,
   "metadata": {},
   "outputs": [
    {
     "data": {
      "text/plain": [
       "Text(0.5, 1.0, '% of hit songs with explicit lyrics')"
      ]
     },
     "execution_count": 28,
     "metadata": {},
     "output_type": "execute_result"
    },
    {
     "data": {
      "image/png": "[encoded data removed]",
      "text/plain": [
       "<Figure size 720x216 with 1 Axes>"
      ]
     },
     "metadata": {
      "needs_background": "light"
     },
     "output_type": "display_data"
    }
   ],
   "source": [
    "plt.figure(figsize=(10,3))\n",
    "plt.plot(years_explicit['years'], years_explicit['explicit %'], color='black')\n",
    "plt.ylim((0.3,0.85))\n",
    "plt.xlabel('year')\n",
    "plt.ylabel('%')\n",
    "plt.title(\"% of hit songs with explicit lyrics\")"
   ]
  },
  {
   "cell_type": "code",
   "execution_count": 29,
   "metadata": {},
   "outputs": [
    {
     "data": {
      "text/plain": [
       " 1    47\n",
       "-1     9\n",
       "Name: lyric_lab, dtype: int64"
      ]
     },
     "execution_count": 29,
     "metadata": {},
     "output_type": "execute_result"
    }
   ],
   "source": [
    "df_top10_2010.lyric_lab.value_counts()"
   ]
  },
  {
   "cell_type": "code",
   "execution_count": 30,
   "metadata": {},
   "outputs": [
    {
     "data": {
      "text/plain": [
       "0.8392857142857143"
      ]
     },
     "execution_count": 30,
     "metadata": {},
     "output_type": "execute_result"
    }
   ],
   "source": [
    "47/(47+9)"
   ]
  },
  {
   "cell_type": "code",
   "execution_count": 31,
   "metadata": {},
   "outputs": [],
   "source": [
    "years = ['2010', '2011', '2012', '2013', '2014', '2015', '2016', '2017', '2018', '2019', '2020']\n",
    "pos = [0.84, 0.70, 0.69, 0.63, 0.68, 0.51, 0.71, 0.63, 0.54, 0.66, 0.60]\n",
    "neg = [0.16, 0.30, 0.31, 0.37, 0.32, 0.49, 0.29, 0.37, 0.46, 0.34, 0.340]"
   ]
  },
  {
   "cell_type": "code",
   "execution_count": 32,
   "metadata": {},
   "outputs": [],
   "source": [
    "data = {'years': years, 'lyric pos %':pos, 'lyric neg %': neg}\n",
    "\n",
    "years_lyriclab = pd.DataFrame(data)"
   ]
  },
  {
   "cell_type": "code",
   "execution_count": 33,
   "metadata": {},
   "outputs": [
    {
     "data": {
      "text/html": [
       "<div>\n",
       "<style scoped>\n",
       "    .dataframe tbody tr th:only-of-type {\n",
       "        vertical-align: middle;\n",
       "    }\n",
       "\n",
       "    .dataframe tbody tr th {\n",
       "        vertical-align: top;\n",
       "    }\n",
       "\n",
       "    .dataframe thead th {\n",
       "        text-align: right;\n",
       "    }\n",
       "</style>\n",
       "<table border=\"1\" class=\"dataframe\">\n",
       "  <thead>\n",
       "    <tr style=\"text-align: right;\">\n",
       "      <th></th>\n",
       "      <th>years</th>\n",
       "      <th>lyric pos %</th>\n",
       "      <th>lyric neg %</th>\n",
       "    </tr>\n",
       "  </thead>\n",
       "  <tbody>\n",
       "    <tr>\n",
       "      <th>0</th>\n",
       "      <td>2010</td>\n",
       "      <td>0.84</td>\n",
       "      <td>0.16</td>\n",
       "    </tr>\n",
       "    <tr>\n",
       "      <th>1</th>\n",
       "      <td>2011</td>\n",
       "      <td>0.70</td>\n",
       "      <td>0.30</td>\n",
       "    </tr>\n",
       "    <tr>\n",
       "      <th>2</th>\n",
       "      <td>2012</td>\n",
       "      <td>0.69</td>\n",
       "      <td>0.31</td>\n",
       "    </tr>\n",
       "    <tr>\n",
       "      <th>3</th>\n",
       "      <td>2013</td>\n",
       "      <td>0.63</td>\n",
       "      <td>0.37</td>\n",
       "    </tr>\n",
       "    <tr>\n",
       "      <th>4</th>\n",
       "      <td>2014</td>\n",
       "      <td>0.68</td>\n",
       "      <td>0.32</td>\n",
       "    </tr>\n",
       "    <tr>\n",
       "      <th>5</th>\n",
       "      <td>2015</td>\n",
       "      <td>0.51</td>\n",
       "      <td>0.49</td>\n",
       "    </tr>\n",
       "    <tr>\n",
       "      <th>6</th>\n",
       "      <td>2016</td>\n",
       "      <td>0.71</td>\n",
       "      <td>0.29</td>\n",
       "    </tr>\n",
       "    <tr>\n",
       "      <th>7</th>\n",
       "      <td>2017</td>\n",
       "      <td>0.63</td>\n",
       "      <td>0.37</td>\n",
       "    </tr>\n",
       "    <tr>\n",
       "      <th>8</th>\n",
       "      <td>2018</td>\n",
       "      <td>0.54</td>\n",
       "      <td>0.46</td>\n",
       "    </tr>\n",
       "    <tr>\n",
       "      <th>9</th>\n",
       "      <td>2019</td>\n",
       "      <td>0.66</td>\n",
       "      <td>0.34</td>\n",
       "    </tr>\n",
       "    <tr>\n",
       "      <th>10</th>\n",
       "      <td>2020</td>\n",
       "      <td>0.60</td>\n",
       "      <td>0.34</td>\n",
       "    </tr>\n",
       "  </tbody>\n",
       "</table>\n",
       "</div>"
      ],
      "text/plain": [
       "   years  lyric pos %  lyric neg %\n",
       "0   2010         0.84         0.16\n",
       "1   2011         0.70         0.30\n",
       "2   2012         0.69         0.31\n",
       "3   2013         0.63         0.37\n",
       "4   2014         0.68         0.32\n",
       "5   2015         0.51         0.49\n",
       "6   2016         0.71         0.29\n",
       "7   2017         0.63         0.37\n",
       "8   2018         0.54         0.46\n",
       "9   2019         0.66         0.34\n",
       "10  2020         0.60         0.34"
      ]
     },
     "execution_count": 33,
     "metadata": {},
     "output_type": "execute_result"
    }
   ],
   "source": [
    "years_lyriclab"
   ]
  },
  {
   "cell_type": "code",
   "execution_count": 34,
   "metadata": {},
   "outputs": [
    {
     "data": {
      "image/png": "[encoded data removed]",
      "text/plain": [
       "<Figure size 720x216 with 1 Axes>"
      ]
     },
     "metadata": {
      "needs_background": "light"
     },
     "output_type": "display_data"
    }
   ],
   "source": [
    "X_axis = np.arange(len(years_lyriclab.years))\n",
    "plt.figure(figsize=(10,3))\n",
    "plt.bar(X_axis - 0.2, years_lyriclab['lyric pos %'], 0.4, label = 'pos', color='lightskyblue')\n",
    "plt.bar(X_axis + 0.2, years_lyriclab['lyric neg %'], 0.4, label = 'neg')\n",
    "  \n",
    "plt.xticks(X_axis, years_lyriclab.years)\n",
    "plt.xlabel(\"years\")\n",
    "plt.ylabel(\"%\")\n",
    "plt.title(\"Percentage of positive and negative lyrics in Top 10 Hit Songs\")\n",
    "plt.ylim((0,0.9))\n",
    "plt.legend()\n",
    "plt.show()"
   ]
  },
  {
   "cell_type": "code",
   "execution_count": 35,
   "metadata": {},
   "outputs": [
    {
     "data": {
      "text/plain": [
       "Text(0.5, 1.0, 'Percentage of positive lyrics')"
      ]
     },
     "execution_count": 35,
     "metadata": {},
     "output_type": "execute_result"
    },
    {
     "data": {
      "image/png": "[encoded data removed]",
      "text/plain": [
       "<Figure size 720x216 with 1 Axes>"
      ]
     },
     "metadata": {
      "needs_background": "light"
     },
     "output_type": "display_data"
    }
   ],
   "source": [
    "plt.figure(figsize=(10,3))\n",
    "plt.plot(years_lyriclab.years, years_lyriclab['lyric pos %'])\n",
    "plt.ylim((0.1,0.9))\n",
    "plt.xlabel(\"years\")\n",
    "plt.ylabel(\"%\")\n",
    "plt.title(\"Percentage of positive lyrics\")"
   ]
  },
  {
   "cell_type": "code",
   "execution_count": 36,
   "metadata": {},
   "outputs": [
    {
     "data": {
      "image/png": "[encoded data removed]",
      "text/plain": [
       "<Figure size 720x216 with 1 Axes>"
      ]
     },
     "metadata": {
      "needs_background": "light"
     },
     "output_type": "display_data"
    }
   ],
   "source": [
    "X_axis = np.arange(len(years_lyriclab.years))\n",
    "plt.figure(figsize=(10,3))\n",
    "plt.bar(X_axis - 0.2, years_lyriclab['lyric pos %'], 0.4, label = 'pos', color='lightskyblue', alpha=0.5)\n",
    "plt.bar(X_axis + 0.2, years_lyriclab['lyric neg %'], 0.4, label = 'neg', alpha=0.5)\n",
    "plt.plot(years_lyriclab.years, years_lyriclab['lyric pos %'], label = 'pos', linewidth=3, color='black')\n",
    "plt.xticks(X_axis, years_lyriclab.years)\n",
    "plt.xlabel(\"years\")\n",
    "plt.ylabel(\"%\")\n",
    "plt.title(\"Percentage of positive and negative lyrics in Top 10 Hit Songs\")\n",
    "plt.legend()\n",
    "plt.show()"
   ]
  },
  {
   "cell_type": "code",
   "execution_count": 37,
   "metadata": {},
   "outputs": [
    {
     "data": {
      "text/plain": [
       "71.48214285714286"
      ]
     },
     "execution_count": 37,
     "metadata": {},
     "output_type": "execute_result"
    }
   ],
   "source": [
    "df_top10_2010.np_vol.mean()"
   ]
  },
  {
   "cell_type": "code",
   "execution_count": 38,
   "metadata": {},
   "outputs": [
    {
     "data": {
      "text/plain": [
       "84.17857142857143"
      ]
     },
     "execution_count": 38,
     "metadata": {},
     "output_type": "execute_result"
    }
   ],
   "source": [
    "df_top10_2010.pre_vol.mean()"
   ]
  },
  {
   "cell_type": "code",
   "execution_count": 39,
   "metadata": {},
   "outputs": [],
   "source": [
    "years1 = ['2010', '2011', '2012', '2013', '2014', '2015', '2016', '2017', '2018', '2019', '2020']\n",
    "np = [71.5, 79.4, 86.6, 80.0, 92.0, 83.2, 92.6, 94.2, 92.3, 92.0, 69.8]\n",
    "pre = [84.2, 84.8, 89.4, 86.9, 88.2, 83.2, 85.0, 67.1, 62.8, 55.4, 65.0]"
   ]
  },
  {
   "cell_type": "code",
   "execution_count": 40,
   "metadata": {},
   "outputs": [],
   "source": [
    "data = {'years': years1, 'avg np':np, 'avg pre': pre}\n",
    "\n",
    "years_tweetvol = pd.DataFrame(data)"
   ]
  },
  {
   "cell_type": "code",
   "execution_count": 41,
   "metadata": {},
   "outputs": [
    {
     "data": {
      "text/html": [
       "<div>\n",
       "<style scoped>\n",
       "    .dataframe tbody tr th:only-of-type {\n",
       "        vertical-align: middle;\n",
       "    }\n",
       "\n",
       "    .dataframe tbody tr th {\n",
       "        vertical-align: top;\n",
       "    }\n",
       "\n",
       "    .dataframe thead th {\n",
       "        text-align: right;\n",
       "    }\n",
       "</style>\n",
       "<table border=\"1\" class=\"dataframe\">\n",
       "  <thead>\n",
       "    <tr style=\"text-align: right;\">\n",
       "      <th></th>\n",
       "      <th>years</th>\n",
       "      <th>avg np</th>\n",
       "      <th>avg pre</th>\n",
       "    </tr>\n",
       "  </thead>\n",
       "  <tbody>\n",
       "    <tr>\n",
       "      <th>0</th>\n",
       "      <td>2010</td>\n",
       "      <td>71.5</td>\n",
       "      <td>84.2</td>\n",
       "    </tr>\n",
       "    <tr>\n",
       "      <th>1</th>\n",
       "      <td>2011</td>\n",
       "      <td>79.4</td>\n",
       "      <td>84.8</td>\n",
       "    </tr>\n",
       "    <tr>\n",
       "      <th>2</th>\n",
       "      <td>2012</td>\n",
       "      <td>86.6</td>\n",
       "      <td>89.4</td>\n",
       "    </tr>\n",
       "    <tr>\n",
       "      <th>3</th>\n",
       "      <td>2013</td>\n",
       "      <td>80.0</td>\n",
       "      <td>86.9</td>\n",
       "    </tr>\n",
       "    <tr>\n",
       "      <th>4</th>\n",
       "      <td>2014</td>\n",
       "      <td>92.0</td>\n",
       "      <td>88.2</td>\n",
       "    </tr>\n",
       "    <tr>\n",
       "      <th>5</th>\n",
       "      <td>2015</td>\n",
       "      <td>83.2</td>\n",
       "      <td>83.2</td>\n",
       "    </tr>\n",
       "    <tr>\n",
       "      <th>6</th>\n",
       "      <td>2016</td>\n",
       "      <td>92.6</td>\n",
       "      <td>85.0</td>\n",
       "    </tr>\n",
       "    <tr>\n",
       "      <th>7</th>\n",
       "      <td>2017</td>\n",
       "      <td>94.2</td>\n",
       "      <td>67.1</td>\n",
       "    </tr>\n",
       "    <tr>\n",
       "      <th>8</th>\n",
       "      <td>2018</td>\n",
       "      <td>92.3</td>\n",
       "      <td>62.8</td>\n",
       "    </tr>\n",
       "    <tr>\n",
       "      <th>9</th>\n",
       "      <td>2019</td>\n",
       "      <td>92.0</td>\n",
       "      <td>55.4</td>\n",
       "    </tr>\n",
       "    <tr>\n",
       "      <th>10</th>\n",
       "      <td>2020</td>\n",
       "      <td>69.8</td>\n",
       "      <td>65.0</td>\n",
       "    </tr>\n",
       "  </tbody>\n",
       "</table>\n",
       "</div>"
      ],
      "text/plain": [
       "   years  avg np  avg pre\n",
       "0   2010    71.5     84.2\n",
       "1   2011    79.4     84.8\n",
       "2   2012    86.6     89.4\n",
       "3   2013    80.0     86.9\n",
       "4   2014    92.0     88.2\n",
       "5   2015    83.2     83.2\n",
       "6   2016    92.6     85.0\n",
       "7   2017    94.2     67.1\n",
       "8   2018    92.3     62.8\n",
       "9   2019    92.0     55.4\n",
       "10  2020    69.8     65.0"
      ]
     },
     "execution_count": 41,
     "metadata": {},
     "output_type": "execute_result"
    }
   ],
   "source": [
    "years_tweetvol"
   ]
  },
  {
   "cell_type": "code",
   "execution_count": 42,
   "metadata": {},
   "outputs": [
    {
     "data": {
      "image/png": "[encoded data removed]",
      "text/plain": [
       "<Figure size 720x216 with 1 Axes>"
      ]
     },
     "metadata": {
      "needs_background": "light"
     },
     "output_type": "display_data"
    }
   ],
   "source": [
    "import numpy as np\n",
    "X_axis = np.arange(11)\n",
    "\n",
    "plt.figure(figsize=(10,3))\n",
    "plt.bar(X_axis - 0.2, years_tweetvol['avg np'], 0.4, label = 'after', color='pink')\n",
    "plt.bar(X_axis + 0.2, years_tweetvol['avg pre'], 0.4, label = 'before', color='hotpink')\n",
    "plt.xticks(X_axis, years_tweetvol.years)\n",
    "plt.xlabel(\"years\")\n",
    "plt.ylabel(\"average amount\")\n",
    "plt.title(\"Average amount of tweets 2 weeks before and after Top 10 song release\")\n",
    "plt.ylim((0,100))\n",
    "plt.legend()\n",
    "plt.show()"
   ]
  },
  {
   "cell_type": "code",
   "execution_count": 43,
   "metadata": {},
   "outputs": [
    {
     "data": {
      "image/png": "[encoded data removed]",
      "text/plain": [
       "<Figure size 720x216 with 1 Axes>"
      ]
     },
     "metadata": {
      "needs_background": "light"
     },
     "output_type": "display_data"
    }
   ],
   "source": [
    "plt.figure(figsize=(10,3))\n",
    "plt.plot(years_tweetvol.years, years_tweetvol['avg np'], label='after', color='black')\n",
    "plt.plot(years_tweetvol.years, years_tweetvol['avg pre'], label='before', color='blue')\n",
    "plt.ylim((40,100))\n",
    "plt.xlabel(\"years\")\n",
    "plt.ylabel(\"average amount\")\n",
    "plt.title(\"Average amount of tweets 2 weeks before and after song release\")\n",
    "plt.legend()\n",
    "plt.show()"
   ]
  },
  {
   "cell_type": "code",
   "execution_count": 44,
   "metadata": {},
   "outputs": [
    {
     "data": {
      "image/png": "[encoded data removed]",
      "text/plain": [
       "<Figure size 792x216 with 1 Axes>"
      ]
     },
     "metadata": {
      "needs_background": "light"
     },
     "output_type": "display_data"
    }
   ],
   "source": [
    "X_axis = np.arange(11)\n",
    "\n",
    "plt.figure(figsize=(11,3))\n",
    "plt.bar(X_axis - 0.2, years_tweetvol['avg np'], 0.4, label = 'after', color='pink', alpha=0.5)\n",
    "plt.bar(X_axis + 0.2, years_tweetvol['avg pre'], 0.4, label = 'before', color='hotpink', alpha=0.5)\n",
    "plt.plot(years_tweetvol.years, years_tweetvol['avg np'], label='after', color='black')\n",
    "plt.plot(years_tweetvol.years, years_tweetvol['avg pre'], label='before', color='crimson')\n",
    "plt.xticks(X_axis, years_tweetvol.years)\n",
    "plt.xlabel(\"years\")\n",
    "plt.ylabel(\"average amount\")\n",
    "plt.title(\"Average amount of tweets 2 weeks before and after Top 10 song release\")\n",
    "plt.ylim((40,100))\n",
    "plt.legend()\n",
    "plt.show()"
   ]
  },
  {
   "cell_type": "code",
   "execution_count": 45,
   "metadata": {},
   "outputs": [
    {
     "name": "stdout",
     "output_type": "stream",
     "text": [
      "<class 'pandas.core.frame.DataFrame'>\n",
      "RangeIndex: 5015 entries, 0 to 5014\n",
      "Data columns (total 28 columns):\n",
      " #   Column            Non-Null Count  Dtype  \n",
      "---  ------            --------------  -----  \n",
      " 0   Unnamed: 0        5015 non-null   int64  \n",
      " 1   peak_date         5015 non-null   object \n",
      " 2   release_date      5015 non-null   object \n",
      " 3   song              5015 non-null   object \n",
      " 4   artist            5015 non-null   object \n",
      " 5   peak_rank         5015 non-null   int64  \n",
      " 6   current_rank      5015 non-null   int64  \n",
      " 7   last_rank         3302 non-null   float64\n",
      " 8   weeks_board       5015 non-null   int64  \n",
      " 9   lyrics            5015 non-null   object \n",
      " 10  lyrics_score      5015 non-null   object \n",
      " 11  lyrics_neg        5015 non-null   float64\n",
      " 12  lyrics_neu        5015 non-null   float64\n",
      " 13  lyrics_pos        5015 non-null   float64\n",
      " 14  lyrics_compound   5015 non-null   float64\n",
      " 15  lyrics_label      5015 non-null   object \n",
      " 16  spotify_pop       5015 non-null   int64  \n",
      " 17  spotify_id        5015 non-null   object \n",
      " 18  spotify_explicit  5015 non-null   bool   \n",
      " 19  days              5015 non-null   int64  \n",
      " 20  np_tweets         5015 non-null   object \n",
      " 21  np_volume         5015 non-null   int64  \n",
      " 22  pre_tweets        5015 non-null   object \n",
      " 23  pre_volume        5015 non-null   int64  \n",
      " 24  title_sent        5015 non-null   float64\n",
      " 25  np_sent           5015 non-null   float64\n",
      " 26  pre_sent          5015 non-null   float64\n",
      " 27  lyrics_sent       5015 non-null   float64\n",
      "dtypes: bool(1), float64(9), int64(8), object(10)\n",
      "memory usage: 1.0+ MB\n"
     ]
    }
   ],
   "source": [
    "\n",
    "df = pd.read_csv(r'2015_2020_nowplaying.csv')\n",
    "df.info()"
   ]
  },
  {
   "cell_type": "code",
   "execution_count": 46,
   "metadata": {},
   "outputs": [
    {
     "data": {
      "image/png": "[encoded data removed]",
      "text/plain": [
       "<Figure size 432x288 with 1 Axes>"
      ]
     },
     "metadata": {
      "needs_background": "light"
     },
     "output_type": "display_data"
    }
   ],
   "source": [
    "\n",
    "pop = df['spotify_pop']\n",
    "pop.plot.kde(color='black')\n",
    "plt.vlines(x=[75], ymin=0, ymax=0.035, colors='red', ls='--', lw=1.1, label='pop>75')\n",
    "plt.vlines(x=[70], ymin=0, ymax=0.035, colors='orange', ls='--', lw=1.1, label='pop>70')\n",
    "plt.vlines(x=[80], ymin=0, ymax=0.035, colors='brown', ls='--', lw=1.1, label='pop>80')\n",
    "plt.xlabel(\"Spotify popularity score\")\n",
    "plt.title(\"Distribution of the Spotify Popularity Scores\")\n",
    "plt.legend(bbox_to_anchor=(1.0, 1), loc='upper left')\n",
    "plt.show()"
   ]
  },
  {
   "cell_type": "code",
   "execution_count": 47,
   "metadata": {},
   "outputs": [
    {
     "data": {
      "image/png": "[encoded data removed]",
      "text/plain": [
       "<Figure size 432x288 with 1 Axes>"
      ]
     },
     "metadata": {
      "needs_background": "light"
     },
     "output_type": "display_data"
    }
   ],
   "source": [
    "pop = df['peak_rank']\n",
    "pop.plot.kde(color='black')\n",
    "plt.vlines(x=[90], ymin=0, ymax=0.012, colors='purple', ls='--', lw=1.1, label='Top 10')\n",
    "plt.vlines(x=[80], ymin=0, ymax=0.012, colors='blue', ls='--', lw=1.1, label='Top 20')\n",
    "plt.vlines(x=[95], ymin=0, ymax=0.012, colors='green', ls='--', lw=1.1, label='Top 5')\n",
    "plt.xlabel(\"Peak Ranks\")\n",
    "plt.title(\"Distribution of the Billboard Peak Ranks\")\n",
    "plt.legend(bbox_to_anchor=(1.0, 1), loc='upper left')\n",
    "plt.show()"
   ]
  },
  {
   "cell_type": "code",
   "execution_count": 48,
   "metadata": {},
   "outputs": [
    {
     "data": {
      "text/plain": [
       "Text(0.5, 1.0, 'Correlation: song features and spotify popularity')"
      ]
     },
     "execution_count": 48,
     "metadata": {},
     "output_type": "execute_result"
    },
    {
     "data": {
      "image/png": "[encoded data removed]",
      "text/plain": [
       "<Figure size 432x360 with 2 Axes>"
      ]
     },
     "metadata": {
      "needs_background": "light"
     },
     "output_type": "display_data"
    }
   ],
   "source": [
    "d = {'popularity': df['spotify_pop'], 'lyric sentiment':df['lyrics_compound'], 'lyrics label':df['lyrics_label'],\n",
    "     'lyric explicit':df['spotify_explicit'],'#nowplaying volume': df['np_volume'],\n",
    "     '#nowplaying sentiment': df['np_sent'], 'pre-release volume': df['pre_volume'],\n",
    "     'pre-release sentiment': df['pre_sent'], 'title sentiment': df['title_sent']}\n",
    "df2 = pd.DataFrame(data=d)\n",
    "\n",
    "import seaborn as sns\n",
    "f,ax = plt.subplots(figsize=(6,5))\n",
    "sns.heatmap(df2.corr(), annot=True, linewidths=.5, fmt= '.1f',ax=ax)\n",
    "plt.title(\"Correlation: song features and spotify popularity\")"
   ]
  },
  {
   "cell_type": "code",
   "execution_count": 49,
   "metadata": {},
   "outputs": [
    {
     "data": {
      "text/plain": [
       "Text(0.5, 1.0, 'Correlation: song features and peak rank')"
      ]
     },
     "execution_count": 49,
     "metadata": {},
     "output_type": "execute_result"
    },
    {
     "data": {
      "image/png": "[encoded data removed]",
      "text/plain": [
       "<Figure size 432x360 with 2 Axes>"
      ]
     },
     "metadata": {
      "needs_background": "light"
     },
     "output_type": "display_data"
    }
   ],
   "source": [
    "d = {'peak rank': df['peak_rank'], 'lyric sentiment':df['lyrics_compound'], 'lyrics label':df['lyrics_label'],\n",
    "     'lyric explicit':df['spotify_explicit'],'#nowplaying volume': df['np_volume'],\n",
    "     '#nowplaying sentiment': df['np_sent'], 'pre-release volume': df['pre_volume'],\n",
    "     'pre-release sentiment': df['pre_sent'], 'title sentiment': df['title_sent']}\n",
    "df2 = pd.DataFrame(data=d)\n",
    "\n",
    "f,ax = plt.subplots(figsize=(6,5))\n",
    "sns.heatmap(df2.corr(), annot=True, linewidths=.5, fmt= '.1f',ax=ax)\n",
    "plt.title(\"Correlation: song features and peak rank\")"
   ]
  },
  {
   "cell_type": "markdown",
   "metadata": {},
   "source": [
    "## Looking at Spotify > 75"
   ]
  },
  {
   "cell_type": "code",
   "execution_count": 50,
   "metadata": {},
   "outputs": [
    {
     "data": {
      "text/plain": [
       "0    4112\n",
       "1     903\n",
       "Name: hit, dtype: int64"
      ]
     },
     "execution_count": 50,
     "metadata": {},
     "output_type": "execute_result"
    }
   ],
   "source": [
    "df_spot75.hit.value_counts()"
   ]
  },
  {
   "cell_type": "code",
   "execution_count": 51,
   "metadata": {},
   "outputs": [
    {
     "data": {
      "text/html": [
       "<div>\n",
       "<style scoped>\n",
       "    .dataframe tbody tr th:only-of-type {\n",
       "        vertical-align: middle;\n",
       "    }\n",
       "\n",
       "    .dataframe tbody tr th {\n",
       "        vertical-align: top;\n",
       "    }\n",
       "\n",
       "    .dataframe thead th {\n",
       "        text-align: right;\n",
       "    }\n",
       "</style>\n",
       "<table border=\"1\" class=\"dataframe\">\n",
       "  <thead>\n",
       "    <tr style=\"text-align: right;\">\n",
       "      <th></th>\n",
       "      <th>Unnamed: 0</th>\n",
       "      <th>id</th>\n",
       "      <th>weeks</th>\n",
       "      <th>lyric_sent</th>\n",
       "      <th>lyric_lab</th>\n",
       "      <th>lyric_ex</th>\n",
       "      <th>np_vol</th>\n",
       "      <th>np_sent</th>\n",
       "      <th>pre_vol</th>\n",
       "      <th>pre_sent</th>\n",
       "      <th>title_sent</th>\n",
       "      <th>hit</th>\n",
       "      <th>peak_year</th>\n",
       "    </tr>\n",
       "  </thead>\n",
       "  <tbody>\n",
       "    <tr>\n",
       "      <th>0</th>\n",
       "      <td>0</td>\n",
       "      <td>0</td>\n",
       "      <td>1</td>\n",
       "      <td>0.9829</td>\n",
       "      <td>1</td>\n",
       "      <td>0</td>\n",
       "      <td>99</td>\n",
       "      <td>-0.9733</td>\n",
       "      <td>89</td>\n",
       "      <td>0.9993</td>\n",
       "      <td>0.0000</td>\n",
       "      <td>1</td>\n",
       "      <td>2020</td>\n",
       "    </tr>\n",
       "    <tr>\n",
       "      <th>1</th>\n",
       "      <td>1</td>\n",
       "      <td>1</td>\n",
       "      <td>19</td>\n",
       "      <td>0.9751</td>\n",
       "      <td>1</td>\n",
       "      <td>1</td>\n",
       "      <td>2</td>\n",
       "      <td>-0.5267</td>\n",
       "      <td>88</td>\n",
       "      <td>-0.9992</td>\n",
       "      <td>0.0000</td>\n",
       "      <td>1</td>\n",
       "      <td>2020</td>\n",
       "    </tr>\n",
       "    <tr>\n",
       "      <th>2</th>\n",
       "      <td>2</td>\n",
       "      <td>2</td>\n",
       "      <td>8</td>\n",
       "      <td>0.9935</td>\n",
       "      <td>1</td>\n",
       "      <td>1</td>\n",
       "      <td>86</td>\n",
       "      <td>0.8398</td>\n",
       "      <td>76</td>\n",
       "      <td>0.6159</td>\n",
       "      <td>0.0000</td>\n",
       "      <td>1</td>\n",
       "      <td>2020</td>\n",
       "    </tr>\n",
       "    <tr>\n",
       "      <th>3</th>\n",
       "      <td>3</td>\n",
       "      <td>3</td>\n",
       "      <td>17</td>\n",
       "      <td>0.9946</td>\n",
       "      <td>1</td>\n",
       "      <td>0</td>\n",
       "      <td>91</td>\n",
       "      <td>0.9995</td>\n",
       "      <td>91</td>\n",
       "      <td>0.9995</td>\n",
       "      <td>0.1779</td>\n",
       "      <td>1</td>\n",
       "      <td>2020</td>\n",
       "    </tr>\n",
       "    <tr>\n",
       "      <th>4</th>\n",
       "      <td>4</td>\n",
       "      <td>4</td>\n",
       "      <td>13</td>\n",
       "      <td>0.9863</td>\n",
       "      <td>1</td>\n",
       "      <td>0</td>\n",
       "      <td>96</td>\n",
       "      <td>0.9996</td>\n",
       "      <td>88</td>\n",
       "      <td>0.9993</td>\n",
       "      <td>0.0000</td>\n",
       "      <td>1</td>\n",
       "      <td>2020</td>\n",
       "    </tr>\n",
       "    <tr>\n",
       "      <th>...</th>\n",
       "      <td>...</td>\n",
       "      <td>...</td>\n",
       "      <td>...</td>\n",
       "      <td>...</td>\n",
       "      <td>...</td>\n",
       "      <td>...</td>\n",
       "      <td>...</td>\n",
       "      <td>...</td>\n",
       "      <td>...</td>\n",
       "      <td>...</td>\n",
       "      <td>...</td>\n",
       "      <td>...</td>\n",
       "      <td>...</td>\n",
       "    </tr>\n",
       "    <tr>\n",
       "      <th>4955</th>\n",
       "      <td>4955</td>\n",
       "      <td>4955</td>\n",
       "      <td>28</td>\n",
       "      <td>0.9981</td>\n",
       "      <td>1</td>\n",
       "      <td>0</td>\n",
       "      <td>58</td>\n",
       "      <td>0.9975</td>\n",
       "      <td>0</td>\n",
       "      <td>0.0000</td>\n",
       "      <td>0.4019</td>\n",
       "      <td>1</td>\n",
       "      <td>2010</td>\n",
       "    </tr>\n",
       "    <tr>\n",
       "      <th>4981</th>\n",
       "      <td>4981</td>\n",
       "      <td>4981</td>\n",
       "      <td>20</td>\n",
       "      <td>-0.9852</td>\n",
       "      <td>-1</td>\n",
       "      <td>0</td>\n",
       "      <td>2</td>\n",
       "      <td>0.0000</td>\n",
       "      <td>100</td>\n",
       "      <td>0.9963</td>\n",
       "      <td>0.0000</td>\n",
       "      <td>1</td>\n",
       "      <td>2010</td>\n",
       "    </tr>\n",
       "    <tr>\n",
       "      <th>4997</th>\n",
       "      <td>4997</td>\n",
       "      <td>4997</td>\n",
       "      <td>23</td>\n",
       "      <td>0.9913</td>\n",
       "      <td>1</td>\n",
       "      <td>1</td>\n",
       "      <td>1</td>\n",
       "      <td>0.0000</td>\n",
       "      <td>100</td>\n",
       "      <td>0.9112</td>\n",
       "      <td>0.0000</td>\n",
       "      <td>1</td>\n",
       "      <td>2010</td>\n",
       "    </tr>\n",
       "    <tr>\n",
       "      <th>5009</th>\n",
       "      <td>5009</td>\n",
       "      <td>5009</td>\n",
       "      <td>1</td>\n",
       "      <td>0.9875</td>\n",
       "      <td>1</td>\n",
       "      <td>0</td>\n",
       "      <td>26</td>\n",
       "      <td>0.8894</td>\n",
       "      <td>0</td>\n",
       "      <td>0.0000</td>\n",
       "      <td>-0.4767</td>\n",
       "      <td>1</td>\n",
       "      <td>2010</td>\n",
       "    </tr>\n",
       "    <tr>\n",
       "      <th>5014</th>\n",
       "      <td>5014</td>\n",
       "      <td>5014</td>\n",
       "      <td>43</td>\n",
       "      <td>0.9967</td>\n",
       "      <td>1</td>\n",
       "      <td>0</td>\n",
       "      <td>100</td>\n",
       "      <td>-0.7571</td>\n",
       "      <td>99</td>\n",
       "      <td>0.9850</td>\n",
       "      <td>0.4404</td>\n",
       "      <td>1</td>\n",
       "      <td>2014</td>\n",
       "    </tr>\n",
       "  </tbody>\n",
       "</table>\n",
       "<p>903 rows × 13 columns</p>\n",
       "</div>"
      ],
      "text/plain": [
       "      Unnamed: 0    id  weeks  lyric_sent  lyric_lab  lyric_ex  np_vol  \\\n",
       "0              0     0      1      0.9829          1         0      99   \n",
       "1              1     1     19      0.9751          1         1       2   \n",
       "2              2     2      8      0.9935          1         1      86   \n",
       "3              3     3     17      0.9946          1         0      91   \n",
       "4              4     4     13      0.9863          1         0      96   \n",
       "...          ...   ...    ...         ...        ...       ...     ...   \n",
       "4955        4955  4955     28      0.9981          1         0      58   \n",
       "4981        4981  4981     20     -0.9852         -1         0       2   \n",
       "4997        4997  4997     23      0.9913          1         1       1   \n",
       "5009        5009  5009      1      0.9875          1         0      26   \n",
       "5014        5014  5014     43      0.9967          1         0     100   \n",
       "\n",
       "      np_sent  pre_vol  pre_sent  title_sent  hit peak_year  \n",
       "0     -0.9733       89    0.9993      0.0000    1      2020  \n",
       "1     -0.5267       88   -0.9992      0.0000    1      2020  \n",
       "2      0.8398       76    0.6159      0.0000    1      2020  \n",
       "3      0.9995       91    0.9995      0.1779    1      2020  \n",
       "4      0.9996       88    0.9993      0.0000    1      2020  \n",
       "...       ...      ...       ...         ...  ...       ...  \n",
       "4955   0.9975        0    0.0000      0.4019    1      2010  \n",
       "4981   0.0000      100    0.9963      0.0000    1      2010  \n",
       "4997   0.0000      100    0.9112      0.0000    1      2010  \n",
       "5009   0.8894        0    0.0000     -0.4767    1      2010  \n",
       "5014  -0.7571       99    0.9850      0.4404    1      2014  \n",
       "\n",
       "[903 rows x 13 columns]"
      ]
     },
     "execution_count": 51,
     "metadata": {},
     "output_type": "execute_result"
    }
   ],
   "source": [
    "df_spot75_hits = df_spot75.loc[df_spot75['hit'] == 1]\n",
    "df_spot75_hits"
   ]
  },
  {
   "cell_type": "code",
   "execution_count": 52,
   "metadata": {},
   "outputs": [
    {
     "data": {
      "text/plain": [
       "2020    235\n",
       "2019    134\n",
       "2018    127\n",
       "2017     98\n",
       "2016     73\n",
       "2015     49\n",
       "2013     48\n",
       "2014     45\n",
       "2012     41\n",
       "2011     30\n",
       "2010     23\n",
       "Name: peak_year, dtype: int64"
      ]
     },
     "execution_count": 52,
     "metadata": {},
     "output_type": "execute_result"
    }
   ],
   "source": [
    "df_spot75_hits.peak_year.value_counts()"
   ]
  },
  {
   "cell_type": "code",
   "execution_count": 53,
   "metadata": {},
   "outputs": [],
   "source": [
    "import matplotlib.pyplot as plt"
   ]
  },
  {
   "cell_type": "code",
   "execution_count": 54,
   "metadata": {},
   "outputs": [
    {
     "data": {
      "text/plain": [
       "Text(0, 0.5, 'Count')"
      ]
     },
     "execution_count": 54,
     "metadata": {},
     "output_type": "execute_result"
    },
    {
     "data": {
      "image/png": "[encoded data removed]",
      "text/plain": [
       "<Figure size 648x216 with 1 Axes>"
      ]
     },
     "metadata": {
      "needs_background": "light"
     },
     "output_type": "display_data"
    }
   ],
   "source": [
    "years = [2010, 2011, 2012, 2013, 2014, 2015, 2016, 2017, 2018, 2019, 2020]\n",
    "hits = [23, 30, 41, 48, 45, 49, 73, 98, 127, 134, 235]\n",
    "plt.figure(figsize=(9,3))\n",
    "plt.bar(years, hits, color = \"orange\")\n",
    "plt.title(\"Volume of Spotify > 75 hit songs from each year\")\n",
    "plt.xlabel(\"Years\")\n",
    "plt.ylabel(\"Count\")"
   ]
  },
  {
   "cell_type": "code",
   "execution_count": 55,
   "metadata": {},
   "outputs": [],
   "source": [
    "df_spot75_2020 = df_spot75_hits.loc[df_spot75_hits['peak_year'] == '2020']\n",
    "df_spot75_2019 = df_spot75_hits.loc[df_spot75_hits['peak_year'] == '2019']\n",
    "df_spot75_2018 = df_spot75_hits.loc[df_spot75_hits['peak_year'] == '2018']\n",
    "df_spot75_2017 = df_spot75_hits.loc[df_spot75_hits['peak_year'] == '2017']\n",
    "df_spot75_2016 = df_spot75_hits.loc[df_spot75_hits['peak_year'] == '2016']\n",
    "df_spot75_2015 = df_spot75_hits.loc[df_spot75_hits['peak_year'] == '2015']\n",
    "df_spot75_2014 = df_spot75_hits.loc[df_spot75_hits['peak_year'] == '2014']\n",
    "df_spot75_2013 = df_spot75_hits.loc[df_spot75_hits['peak_year'] == '2013']\n",
    "df_spot75_2012 = df_spot75_hits.loc[df_spot75_hits['peak_year'] == '2012']\n",
    "df_spot75_2011 = df_spot75_hits.loc[df_spot75_hits['peak_year'] == '2011']\n",
    "df_spot75_2010 = df_spot75_hits.loc[df_spot75_hits['peak_year'] == '2010']"
   ]
  },
  {
   "cell_type": "code",
   "execution_count": 56,
   "metadata": {},
   "outputs": [
    {
     "data": {
      "text/plain": [
       "1    126\n",
       "0    109\n",
       "Name: lyric_ex, dtype: int64"
      ]
     },
     "execution_count": 56,
     "metadata": {},
     "output_type": "execute_result"
    }
   ],
   "source": [
    "df_spot75_2020.lyric_ex.value_counts()"
   ]
  },
  {
   "cell_type": "code",
   "execution_count": 57,
   "metadata": {},
   "outputs": [
    {
     "data": {
      "text/plain": [
       "0.5361702127659574"
      ]
     },
     "execution_count": 57,
     "metadata": {},
     "output_type": "execute_result"
    }
   ],
   "source": [
    "126/(126+109)"
   ]
  },
  {
   "cell_type": "code",
   "execution_count": 58,
   "metadata": {},
   "outputs": [],
   "source": [
    "colours = ['red', 'orange', 'yellow', 'green', 'darkgreen', 'aqua', 'blue', 'navy', 'mediumpurple', 'pink', 'hotpink']\n",
    "years = ['2010', '2011', '2012', '2013', '2014', '2015', '2016', '2017', '2018', '2019', '2020']\n",
    "values = [0.26, 0.37, 0.34, 0.23, 0.18, 0.31, 0.38, 0.48, 0.55, 0.50, 0.54]"
   ]
  },
  {
   "cell_type": "code",
   "execution_count": 59,
   "metadata": {},
   "outputs": [],
   "source": [
    "data = {'years': years, 'explicit %':values}\n",
    "\n",
    "\n",
    "years_explicit = pd.DataFrame(data)"
   ]
  },
  {
   "cell_type": "code",
   "execution_count": 60,
   "metadata": {},
   "outputs": [
    {
     "data": {
      "image/png": "[encoded data removed]",
      "text/plain": [
       "<Figure size 720x216 with 1 Axes>"
      ]
     },
     "metadata": {
      "needs_background": "light"
     },
     "output_type": "display_data"
    }
   ],
   "source": [
    "import numpy as np\n",
    "import matplotlib.pyplot as plt\n",
    " \n",
    "height = years_explicit['explicit %']\n",
    "bars = years_explicit['years']\n",
    "plt.figure(figsize=(10,3))\n",
    "plt.bar(bars, height, width=0.5, color='green', alpha=0.2)\n",
    "plt.plot(years_explicit['years'], years_explicit['explicit %'], c='black', linewidth=3)\n",
    "plt.title(\"% of Spotify > 75 hit songs with explicit lyrics\")\n",
    "plt.xlabel('year')\n",
    "plt.ylabel('%')\n",
    "plt.ylim((0,0.85))\n",
    "plt.show()"
   ]
  },
  {
   "cell_type": "code",
   "execution_count": 61,
   "metadata": {},
   "outputs": [
    {
     "data": {
      "image/png": "[encoded data removed]",
      "text/plain": [
       "<Figure size 720x216 with 1 Axes>"
      ]
     },
     "metadata": {
      "needs_background": "light"
     },
     "output_type": "display_data"
    }
   ],
   "source": [
    "plt.figure(figsize=(10,3))\n",
    "plt.bar(bars, height, width=0.5, color='green')\n",
    "plt.title(\"% of Spotify > 75 hit songs with explicit lyrics\")\n",
    "plt.xlabel('year')\n",
    "plt.ylabel('%')\n",
    "plt.ylim((0,0.85))\n",
    "plt.show()"
   ]
  },
  {
   "cell_type": "code",
   "execution_count": 62,
   "metadata": {},
   "outputs": [
    {
     "data": {
      "text/plain": [
       " 1    140\n",
       "-1     95\n",
       "Name: lyric_lab, dtype: int64"
      ]
     },
     "execution_count": 62,
     "metadata": {},
     "output_type": "execute_result"
    }
   ],
   "source": [
    "df_spot75_2020.lyric_lab.value_counts()"
   ]
  },
  {
   "cell_type": "code",
   "execution_count": 63,
   "metadata": {},
   "outputs": [
    {
     "data": {
      "text/plain": [
       "0.5957446808510638"
      ]
     },
     "execution_count": 63,
     "metadata": {},
     "output_type": "execute_result"
    }
   ],
   "source": [
    "140/(140+95)"
   ]
  },
  {
   "cell_type": "code",
   "execution_count": 64,
   "metadata": {},
   "outputs": [],
   "source": [
    "years = ['2010', '2011', '2012', '2013', '2014', '2015', '2016', '2017', '2018', '2019', '2020']\n",
    "pos = [0.83, 0.73, 0.83, 0.65, 0.69, 0.65, 0.66, 0.63, 0.55, 0.66, 0.60]\n",
    "neg = [0.17, 0.27, 0.17, 0.35, 0.31, 0.35, 0.34, 0.37, 0.45, 0.34, 0.34]"
   ]
  },
  {
   "cell_type": "code",
   "execution_count": 65,
   "metadata": {},
   "outputs": [],
   "source": [
    "data = {'years': years, 'lyric pos %':pos, 'lyric neg %': neg}\n",
    "years_lyriclab = pd.DataFrame(data)"
   ]
  },
  {
   "cell_type": "code",
   "execution_count": 66,
   "metadata": {},
   "outputs": [
    {
     "data": {
      "image/png": "[encoded data removed]",
      "text/plain": [
       "<Figure size 720x216 with 1 Axes>"
      ]
     },
     "metadata": {
      "needs_background": "light"
     },
     "output_type": "display_data"
    }
   ],
   "source": [
    "X_axis = np.arange(len(years_lyriclab.years))\n",
    "plt.figure(figsize=(10,3))\n",
    "plt.bar(X_axis - 0.2, years_lyriclab['lyric pos %'], 0.4, label = 'pos', color='lightskyblue')\n",
    "plt.bar(X_axis + 0.2, years_lyriclab['lyric neg %'], 0.4, label = 'neg')\n",
    "  \n",
    "plt.xticks(X_axis, years_lyriclab.years)\n",
    "plt.xlabel(\"years\")\n",
    "plt.ylabel(\"%\")\n",
    "plt.title(\"Percentage of positive and negative lyrics in Spotify > 75 Hit Songs\")\n",
    "plt.ylim((0.0,0.9))\n",
    "plt.legend()\n",
    "plt.show()"
   ]
  },
  {
   "cell_type": "code",
   "execution_count": 67,
   "metadata": {},
   "outputs": [
    {
     "name": "stdout",
     "output_type": "stream",
     "text": [
      "54.14468085106383\n",
      "53.82127659574468\n"
     ]
    }
   ],
   "source": [
    "print (df_spot75_2020.np_vol.mean())\n",
    "print (df_spot75_2020.pre_vol.mean())"
   ]
  },
  {
   "cell_type": "code",
   "execution_count": 68,
   "metadata": {},
   "outputs": [],
   "source": [
    "years1 = ['2010', '2011', '2012', '2013', '2014', '2015', '2016', '2017', '2018', '2019', '2020']\n",
    "np = [70.0, 85.3, 88.7, 84.5, 86.4, 87.1, 81.9, 80.6, 71.2, 63.0, 54.1]\n",
    "pre = [83.5, 86.7, 90.3, 89.1, 86.5, 89.3, 79.9, 66.3, 58.6, 42.5, 53.8]"
   ]
  },
  {
   "cell_type": "code",
   "execution_count": 69,
   "metadata": {},
   "outputs": [],
   "source": [
    "data = {'years': years1, 'avg np':np, 'avg pre': pre}\n",
    "\n",
    "years_tweetvol = pd.DataFrame(data)"
   ]
  },
  {
   "cell_type": "code",
   "execution_count": 70,
   "metadata": {},
   "outputs": [],
   "source": [
    "import numpy as np"
   ]
  },
  {
   "cell_type": "code",
   "execution_count": 71,
   "metadata": {},
   "outputs": [],
   "source": [
    "x_axis = np.arange(11)"
   ]
  },
  {
   "cell_type": "code",
   "execution_count": 73,
   "metadata": {},
   "outputs": [
    {
     "data": {
      "image/png": "[encoded data removed]",
      "text/plain": [
       "<Figure size 720x216 with 1 Axes>"
      ]
     },
     "metadata": {
      "needs_background": "light"
     },
     "output_type": "display_data"
    }
   ],
   "source": [
    "X_axis = np.arange(11)\n",
    "\n",
    "plt.figure(figsize=(10,3))\n",
    "plt.bar(X_axis - 0.2, years_tweetvol['avg np'], 0.4, label = 'after', color='pink')\n",
    "plt.bar(X_axis + 0.2, years_tweetvol['avg pre'], 0.4, label = 'before', color='hotpink')\n",
    "plt.xticks(X_axis, years_tweetvol.years)\n",
    "plt.xlabel(\"years\")\n",
    "plt.ylabel(\"average amount\")\n",
    "plt.title(\"Average amount of tweets 2 weeks before and after Spotify > 75 song release\")\n",
    "plt.ylim((0,100))\n",
    "plt.legend()\n",
    "plt.show()"
   ]
  },
  {
   "cell_type": "code",
   "execution_count": null,
   "metadata": {},
   "outputs": [],
   "source": []
  },
  {
   "cell_type": "code",
   "execution_count": null,
   "metadata": {},
   "outputs": [],
   "source": []
  }
 ],
 "metadata": {
  "kernelspec": {
   "display_name": "Python 3 (ipykernel)",
   "language": "python",
   "name": "python3"
  },
  "language_info": {
   "codemirror_mode": {
    "name": "ipython",
    "version": 3
   },
   "file_extension": ".py",
   "mimetype": "text/x-python",
   "name": "python",
   "nbconvert_exporter": "python",
   "pygments_lexer": "ipython3",
   "version": "3.8.5"
  }
 },
 "nbformat": 4,
 "nbformat_minor": 4
}
