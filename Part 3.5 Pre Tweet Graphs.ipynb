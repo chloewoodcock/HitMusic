{
 "cells": [
  {
   "cell_type": "code",
   "execution_count": 1,
   "metadata": {},
   "outputs": [],
   "source": [
    "import pandas as pd"
   ]
  },
  {
   "cell_type": "code",
   "execution_count": 2,
   "metadata": {},
   "outputs": [],
   "source": [
    "df = pd.read_csv(r'2010_2020_preTweet.csv')"
   ]
  },
  {
   "cell_type": "code",
   "execution_count": 3,
   "metadata": {},
   "outputs": [],
   "source": [
    "df.drop(df.columns[[0]], axis = 1, inplace = True)"
   ]
  },
  {
   "cell_type": "code",
   "execution_count": 4,
   "metadata": {},
   "outputs": [
    {
     "data": {
      "text/html": [
       "<div>\n",
       "<style scoped>\n",
       "    .dataframe tbody tr th:only-of-type {\n",
       "        vertical-align: middle;\n",
       "    }\n",
       "\n",
       "    .dataframe tbody tr th {\n",
       "        vertical-align: top;\n",
       "    }\n",
       "\n",
       "    .dataframe thead th {\n",
       "        text-align: right;\n",
       "    }\n",
       "</style>\n",
       "<table border=\"1\" class=\"dataframe\">\n",
       "  <thead>\n",
       "    <tr style=\"text-align: right;\">\n",
       "      <th></th>\n",
       "      <th>peak_date</th>\n",
       "      <th>release_date</th>\n",
       "      <th>song</th>\n",
       "      <th>artist</th>\n",
       "      <th>peak_rank</th>\n",
       "      <th>current_rank</th>\n",
       "      <th>last_rank</th>\n",
       "      <th>weeks_board</th>\n",
       "      <th>lyrics</th>\n",
       "      <th>lyrics_score</th>\n",
       "      <th>lyrics_neg</th>\n",
       "      <th>lyrics_neu</th>\n",
       "      <th>lyrics_pos</th>\n",
       "      <th>lyrics_compound</th>\n",
       "      <th>lyrics_label</th>\n",
       "      <th>spotify_pop</th>\n",
       "      <th>spotify_id</th>\n",
       "      <th>spotify_explicit</th>\n",
       "      <th>days</th>\n",
       "    </tr>\n",
       "  </thead>\n",
       "  <tbody>\n",
       "    <tr>\n",
       "      <th>0</th>\n",
       "      <td>2020-12-26</td>\n",
       "      <td>2020-12-11</td>\n",
       "      <td>Willow</td>\n",
       "      <td>Taylor Swift</td>\n",
       "      <td>1</td>\n",
       "      <td>1</td>\n",
       "      <td>NaN</td>\n",
       "      <td>1</td>\n",
       "      <td>[Verse 1] I'm like the water when your ship ro...</td>\n",
       "      <td>{'neg': 0.085, 'neu': 0.773, 'pos': 0.141, 'co...</td>\n",
       "      <td>0.085</td>\n",
       "      <td>0.773</td>\n",
       "      <td>0.141</td>\n",
       "      <td>0.9829</td>\n",
       "      <td>pos</td>\n",
       "      <td>82</td>\n",
       "      <td>0lx2cLdOt3piJbcaXIV74f</td>\n",
       "      <td>False</td>\n",
       "      <td>15</td>\n",
       "    </tr>\n",
       "    <tr>\n",
       "      <th>1</th>\n",
       "      <td>2020-12-26</td>\n",
       "      <td>2020-07-24</td>\n",
       "      <td>Mood</td>\n",
       "      <td>24kGoldn Featuring iann dior</td>\n",
       "      <td>1</td>\n",
       "      <td>5</td>\n",
       "      <td>2.0</td>\n",
       "      <td>19</td>\n",
       "      <td>Why you always such a noob Walking round, acti...</td>\n",
       "      <td>{'neg': 0.089, 'neu': 0.796, 'pos': 0.115, 'co...</td>\n",
       "      <td>0.089</td>\n",
       "      <td>0.796</td>\n",
       "      <td>0.115</td>\n",
       "      <td>0.9751</td>\n",
       "      <td>pos</td>\n",
       "      <td>89</td>\n",
       "      <td>4jPy3l0RUwlUI9T5XHBW2m</td>\n",
       "      <td>True</td>\n",
       "      <td>155</td>\n",
       "    </tr>\n",
       "    <tr>\n",
       "      <th>2</th>\n",
       "      <td>2020-12-26</td>\n",
       "      <td>2020-10-30</td>\n",
       "      <td>Positions</td>\n",
       "      <td>Ariana Grande</td>\n",
       "      <td>1</td>\n",
       "      <td>8</td>\n",
       "      <td>4.0</td>\n",
       "      <td>8</td>\n",
       "      <td>[Verse 1] Heaven sent you to me I'm just hopin...</td>\n",
       "      <td>{'neg': 0.039, 'neu': 0.803, 'pos': 0.157, 'co...</td>\n",
       "      <td>0.039</td>\n",
       "      <td>0.803</td>\n",
       "      <td>0.157</td>\n",
       "      <td>0.9935</td>\n",
       "      <td>pos</td>\n",
       "      <td>88</td>\n",
       "      <td>35mvY5S1H3J2QZyna3TFe0</td>\n",
       "      <td>True</td>\n",
       "      <td>57</td>\n",
       "    </tr>\n",
       "    <tr>\n",
       "      <th>3</th>\n",
       "      <td>2020-12-26</td>\n",
       "      <td>2020-11-20</td>\n",
       "      <td>Dynamite</td>\n",
       "      <td>BTS</td>\n",
       "      <td>1</td>\n",
       "      <td>9</td>\n",
       "      <td>24.0</td>\n",
       "      <td>17</td>\n",
       "      <td>[Intro: Jung Kook] 'Cause I, I, I'm in the sta...</td>\n",
       "      <td>{'neg': 0.03, 'neu': 0.82, 'pos': 0.15, 'compo...</td>\n",
       "      <td>0.030</td>\n",
       "      <td>0.820</td>\n",
       "      <td>0.150</td>\n",
       "      <td>0.9946</td>\n",
       "      <td>pos</td>\n",
       "      <td>88</td>\n",
       "      <td>5QDLhrAOJJdNAmCTJ8xMyW</td>\n",
       "      <td>False</td>\n",
       "      <td>36</td>\n",
       "    </tr>\n",
       "    <tr>\n",
       "      <th>4</th>\n",
       "      <td>2020-12-26</td>\n",
       "      <td>2020-09-18</td>\n",
       "      <td>Holy</td>\n",
       "      <td>Justin Bieber Featuring Chance The Rapper</td>\n",
       "      <td>3</td>\n",
       "      <td>13</td>\n",
       "      <td>9.0</td>\n",
       "      <td>13</td>\n",
       "      <td>[Verse 1: Justin Bieber] I hear a lot about si...</td>\n",
       "      <td>{'neg': 0.07, 'neu': 0.799, 'pos': 0.131, 'com...</td>\n",
       "      <td>0.070</td>\n",
       "      <td>0.799</td>\n",
       "      <td>0.131</td>\n",
       "      <td>0.9863</td>\n",
       "      <td>pos</td>\n",
       "      <td>80</td>\n",
       "      <td>5u1n1kITHCxxp8twBcZxWy</td>\n",
       "      <td>False</td>\n",
       "      <td>99</td>\n",
       "    </tr>\n",
       "    <tr>\n",
       "      <th>...</th>\n",
       "      <td>...</td>\n",
       "      <td>...</td>\n",
       "      <td>...</td>\n",
       "      <td>...</td>\n",
       "      <td>...</td>\n",
       "      <td>...</td>\n",
       "      <td>...</td>\n",
       "      <td>...</td>\n",
       "      <td>...</td>\n",
       "      <td>...</td>\n",
       "      <td>...</td>\n",
       "      <td>...</td>\n",
       "      <td>...</td>\n",
       "      <td>...</td>\n",
       "      <td>...</td>\n",
       "      <td>...</td>\n",
       "      <td>...</td>\n",
       "      <td>...</td>\n",
       "      <td>...</td>\n",
       "    </tr>\n",
       "    <tr>\n",
       "      <th>5066</th>\n",
       "      <td>2010-01-02</td>\n",
       "      <td>2009-05-15</td>\n",
       "      <td>Elevator</td>\n",
       "      <td>Eminem</td>\n",
       "      <td>67</td>\n",
       "      <td>67</td>\n",
       "      <td>NaN</td>\n",
       "      <td>1</td>\n",
       "      <td>[Intro] All aboard! Okay, next stop, my baseme...</td>\n",
       "      <td>{'neg': 0.128, 'neu': 0.785, 'pos': 0.087, 'co...</td>\n",
       "      <td>0.128</td>\n",
       "      <td>0.785</td>\n",
       "      <td>0.087</td>\n",
       "      <td>-0.9918</td>\n",
       "      <td>neg</td>\n",
       "      <td>52</td>\n",
       "      <td>26rUU3JZ9JB9OkEuG9mb3e</td>\n",
       "      <td>True</td>\n",
       "      <td>232</td>\n",
       "    </tr>\n",
       "    <tr>\n",
       "      <th>5067</th>\n",
       "      <td>2010-01-02</td>\n",
       "      <td>2009-01-01</td>\n",
       "      <td>On Fire</td>\n",
       "      <td>Lil Wayne</td>\n",
       "      <td>62</td>\n",
       "      <td>84</td>\n",
       "      <td>62.0</td>\n",
       "      <td>2</td>\n",
       "      <td>[Hook] Mama bad, mama mean Gasoline, she’s on ...</td>\n",
       "      <td>{'neg': 0.184, 'neu': 0.681, 'pos': 0.135, 'co...</td>\n",
       "      <td>0.184</td>\n",
       "      <td>0.681</td>\n",
       "      <td>0.135</td>\n",
       "      <td>-0.9785</td>\n",
       "      <td>neg</td>\n",
       "      <td>37</td>\n",
       "      <td>50mX6QmpQX4cCsRYJ9fGM3</td>\n",
       "      <td>True</td>\n",
       "      <td>366</td>\n",
       "    </tr>\n",
       "    <tr>\n",
       "      <th>5068</th>\n",
       "      <td>2010-01-02</td>\n",
       "      <td>2009-11-24</td>\n",
       "      <td>I Get It In</td>\n",
       "      <td>Omarion Featuring Gucci Mane</td>\n",
       "      <td>83</td>\n",
       "      <td>98</td>\n",
       "      <td>92.0</td>\n",
       "      <td>7</td>\n",
       "      <td>[Intro: Omarion &amp; Gucci Mane] Oh! Omarion (It'...</td>\n",
       "      <td>{'neg': 0.045, 'neu': 0.903, 'pos': 0.052, 'co...</td>\n",
       "      <td>0.045</td>\n",
       "      <td>0.903</td>\n",
       "      <td>0.052</td>\n",
       "      <td>-0.4019</td>\n",
       "      <td>neg</td>\n",
       "      <td>28</td>\n",
       "      <td>2E6gb0Ngrvun6CUAUkvZPI</td>\n",
       "      <td>True</td>\n",
       "      <td>39</td>\n",
       "    </tr>\n",
       "    <tr>\n",
       "      <th>5069</th>\n",
       "      <td>2019-12-21</td>\n",
       "      <td>2019-05-13</td>\n",
       "      <td>We Were</td>\n",
       "      <td>Keith Urban</td>\n",
       "      <td>65</td>\n",
       "      <td>94</td>\n",
       "      <td>66.0</td>\n",
       "      <td>15</td>\n",
       "      <td>[Verse 1] We were just a couple years short of...</td>\n",
       "      <td>{'neg': 0.059, 'neu': 0.867, 'pos': 0.073, 'co...</td>\n",
       "      <td>0.059</td>\n",
       "      <td>0.867</td>\n",
       "      <td>0.073</td>\n",
       "      <td>0.7851</td>\n",
       "      <td>pos</td>\n",
       "      <td>55</td>\n",
       "      <td>5Net7uzpcqkJtOwR22onye</td>\n",
       "      <td>False</td>\n",
       "      <td>222</td>\n",
       "    </tr>\n",
       "    <tr>\n",
       "      <th>5070</th>\n",
       "      <td>2014-03-08</td>\n",
       "      <td>2013-06-04</td>\n",
       "      <td>Safe And Sound</td>\n",
       "      <td>Capital Cities</td>\n",
       "      <td>8</td>\n",
       "      <td>44</td>\n",
       "      <td>46.0</td>\n",
       "      <td>43</td>\n",
       "      <td>[Verse 1] I could lift you up I could show you...</td>\n",
       "      <td>{'neg': 0.015, 'neu': 0.76, 'pos': 0.225, 'com...</td>\n",
       "      <td>0.015</td>\n",
       "      <td>0.760</td>\n",
       "      <td>0.225</td>\n",
       "      <td>0.9967</td>\n",
       "      <td>pos</td>\n",
       "      <td>84</td>\n",
       "      <td>6Z8R6UsFuGXGtiIxiD8ISb</td>\n",
       "      <td>False</td>\n",
       "      <td>277</td>\n",
       "    </tr>\n",
       "  </tbody>\n",
       "</table>\n",
       "<p>5071 rows × 19 columns</p>\n",
       "</div>"
      ],
      "text/plain": [
       "       peak_date release_date            song  \\\n",
       "0     2020-12-26   2020-12-11          Willow   \n",
       "1     2020-12-26   2020-07-24            Mood   \n",
       "2     2020-12-26   2020-10-30       Positions   \n",
       "3     2020-12-26   2020-11-20        Dynamite   \n",
       "4     2020-12-26   2020-09-18            Holy   \n",
       "...          ...          ...             ...   \n",
       "5066  2010-01-02   2009-05-15        Elevator   \n",
       "5067  2010-01-02   2009-01-01         On Fire   \n",
       "5068  2010-01-02   2009-11-24     I Get It In   \n",
       "5069  2019-12-21   2019-05-13         We Were   \n",
       "5070  2014-03-08   2013-06-04  Safe And Sound   \n",
       "\n",
       "                                         artist  peak_rank  current_rank  \\\n",
       "0                                  Taylor Swift          1             1   \n",
       "1                  24kGoldn Featuring iann dior          1             5   \n",
       "2                                 Ariana Grande          1             8   \n",
       "3                                           BTS          1             9   \n",
       "4     Justin Bieber Featuring Chance The Rapper          3            13   \n",
       "...                                         ...        ...           ...   \n",
       "5066                                     Eminem         67            67   \n",
       "5067                                  Lil Wayne         62            84   \n",
       "5068               Omarion Featuring Gucci Mane         83            98   \n",
       "5069                                Keith Urban         65            94   \n",
       "5070                             Capital Cities          8            44   \n",
       "\n",
       "      last_rank  weeks_board  \\\n",
       "0           NaN            1   \n",
       "1           2.0           19   \n",
       "2           4.0            8   \n",
       "3          24.0           17   \n",
       "4           9.0           13   \n",
       "...         ...          ...   \n",
       "5066        NaN            1   \n",
       "5067       62.0            2   \n",
       "5068       92.0            7   \n",
       "5069       66.0           15   \n",
       "5070       46.0           43   \n",
       "\n",
       "                                                 lyrics  \\\n",
       "0     [Verse 1] I'm like the water when your ship ro...   \n",
       "1     Why you always such a noob Walking round, acti...   \n",
       "2     [Verse 1] Heaven sent you to me I'm just hopin...   \n",
       "3     [Intro: Jung Kook] 'Cause I, I, I'm in the sta...   \n",
       "4     [Verse 1: Justin Bieber] I hear a lot about si...   \n",
       "...                                                 ...   \n",
       "5066  [Intro] All aboard! Okay, next stop, my baseme...   \n",
       "5067  [Hook] Mama bad, mama mean Gasoline, she’s on ...   \n",
       "5068  [Intro: Omarion & Gucci Mane] Oh! Omarion (It'...   \n",
       "5069  [Verse 1] We were just a couple years short of...   \n",
       "5070  [Verse 1] I could lift you up I could show you...   \n",
       "\n",
       "                                           lyrics_score  lyrics_neg  \\\n",
       "0     {'neg': 0.085, 'neu': 0.773, 'pos': 0.141, 'co...       0.085   \n",
       "1     {'neg': 0.089, 'neu': 0.796, 'pos': 0.115, 'co...       0.089   \n",
       "2     {'neg': 0.039, 'neu': 0.803, 'pos': 0.157, 'co...       0.039   \n",
       "3     {'neg': 0.03, 'neu': 0.82, 'pos': 0.15, 'compo...       0.030   \n",
       "4     {'neg': 0.07, 'neu': 0.799, 'pos': 0.131, 'com...       0.070   \n",
       "...                                                 ...         ...   \n",
       "5066  {'neg': 0.128, 'neu': 0.785, 'pos': 0.087, 'co...       0.128   \n",
       "5067  {'neg': 0.184, 'neu': 0.681, 'pos': 0.135, 'co...       0.184   \n",
       "5068  {'neg': 0.045, 'neu': 0.903, 'pos': 0.052, 'co...       0.045   \n",
       "5069  {'neg': 0.059, 'neu': 0.867, 'pos': 0.073, 'co...       0.059   \n",
       "5070  {'neg': 0.015, 'neu': 0.76, 'pos': 0.225, 'com...       0.015   \n",
       "\n",
       "      lyrics_neu  lyrics_pos  lyrics_compound lyrics_label  spotify_pop  \\\n",
       "0          0.773       0.141           0.9829          pos           82   \n",
       "1          0.796       0.115           0.9751          pos           89   \n",
       "2          0.803       0.157           0.9935          pos           88   \n",
       "3          0.820       0.150           0.9946          pos           88   \n",
       "4          0.799       0.131           0.9863          pos           80   \n",
       "...          ...         ...              ...          ...          ...   \n",
       "5066       0.785       0.087          -0.9918          neg           52   \n",
       "5067       0.681       0.135          -0.9785          neg           37   \n",
       "5068       0.903       0.052          -0.4019          neg           28   \n",
       "5069       0.867       0.073           0.7851          pos           55   \n",
       "5070       0.760       0.225           0.9967          pos           84   \n",
       "\n",
       "                  spotify_id  spotify_explicit  days  \n",
       "0     0lx2cLdOt3piJbcaXIV74f             False    15  \n",
       "1     4jPy3l0RUwlUI9T5XHBW2m              True   155  \n",
       "2     35mvY5S1H3J2QZyna3TFe0              True    57  \n",
       "3     5QDLhrAOJJdNAmCTJ8xMyW             False    36  \n",
       "4     5u1n1kITHCxxp8twBcZxWy             False    99  \n",
       "...                      ...               ...   ...  \n",
       "5066  26rUU3JZ9JB9OkEuG9mb3e              True   232  \n",
       "5067  50mX6QmpQX4cCsRYJ9fGM3              True   366  \n",
       "5068  2E6gb0Ngrvun6CUAUkvZPI              True    39  \n",
       "5069  5Net7uzpcqkJtOwR22onye             False   222  \n",
       "5070  6Z8R6UsFuGXGtiIxiD8ISb             False   277  \n",
       "\n",
       "[5071 rows x 19 columns]"
      ]
     },
     "execution_count": 4,
     "metadata": {},
     "output_type": "execute_result"
    }
   ],
   "source": [
    "df"
   ]
  },
  {
   "cell_type": "code",
   "execution_count": 5,
   "metadata": {},
   "outputs": [],
   "source": [
    "import matplotlib.pyplot as plt"
   ]
  },
  {
   "cell_type": "code",
   "execution_count": 6,
   "metadata": {},
   "outputs": [
    {
     "data": {
      "image/png": "[encoded data removed]",
      "text/plain": [
       "<Figure size 432x288 with 1 Axes>"
      ]
     },
     "metadata": {
      "needs_background": "light"
     },
     "output_type": "display_data"
    }
   ],
   "source": [
    "ax = df['spotify_explicit'].value_counts().plot(kind='bar',\n",
    "                                    figsize=(6,4),\n",
    "                                    title=\"Count for lyric explicitness of songs\", color='grey',\n",
    "                                               xerr = df['spotify_explicit'].value_counts())\n",
    "ax.set_xlabel(\"Spotify Lyric Explicit\")\n",
    "ax.set_ylabel(\"Frequency\")\n",
    "\n",
    "plt.show()"
   ]
  },
  {
   "cell_type": "code",
   "execution_count": 7,
   "metadata": {},
   "outputs": [
    {
     "data": {
      "image/png": "[encoded data removed]",
      "text/plain": [
       "<Figure size 432x288 with 1 Axes>"
      ]
     },
     "metadata": {
      "needs_background": "light"
     },
     "output_type": "display_data"
    }
   ],
   "source": [
    "ax = df['lyrics_label'].value_counts().plot(kind='bar',\n",
    "                                    figsize=(6,4),\n",
    "                                    title=\"Sentiment label for song lyrics\", color='grey',\n",
    "                                               xerr = df['lyrics_label'].value_counts())\n",
    "ax.set_xlabel(\"VADER lyric sentiment\")\n",
    "ax.set_ylabel(\"Frequency\")\n",
    "\n",
    "plt.show()"
   ]
  },
  {
   "cell_type": "code",
   "execution_count": 8,
   "metadata": {},
   "outputs": [],
   "source": [
    "from collections import Counter\n",
    "\n",
    "artist_name = Counter(df['artist']).keys() # equals to list(set(words))\n",
    "artist_counts = Counter(df['artist']).values()"
   ]
  },
  {
   "cell_type": "code",
   "execution_count": 9,
   "metadata": {},
   "outputs": [],
   "source": [
    "d = {'artist': artist_name, 'count': artist_counts}\n",
    "artist_info = pd.DataFrame(data=d)"
   ]
  },
  {
   "cell_type": "code",
   "execution_count": 10,
   "metadata": {},
   "outputs": [],
   "source": [
    "art = artist_info.sort_values(by=['count'], ascending=False).head(10)"
   ]
  },
  {
   "cell_type": "code",
   "execution_count": 11,
   "metadata": {},
   "outputs": [
    {
     "data": {
      "text/html": [
       "<div>\n",
       "<style scoped>\n",
       "    .dataframe tbody tr th:only-of-type {\n",
       "        vertical-align: middle;\n",
       "    }\n",
       "\n",
       "    .dataframe tbody tr th {\n",
       "        vertical-align: top;\n",
       "    }\n",
       "\n",
       "    .dataframe thead th {\n",
       "        text-align: right;\n",
       "    }\n",
       "</style>\n",
       "<table border=\"1\" class=\"dataframe\">\n",
       "  <thead>\n",
       "    <tr style=\"text-align: right;\">\n",
       "      <th></th>\n",
       "      <th>artist</th>\n",
       "      <th>count</th>\n",
       "    </tr>\n",
       "  </thead>\n",
       "  <tbody>\n",
       "    <tr>\n",
       "      <th>1729</th>\n",
       "      <td>Glee Cast</td>\n",
       "      <td>156</td>\n",
       "    </tr>\n",
       "    <tr>\n",
       "      <th>209</th>\n",
       "      <td>Drake</td>\n",
       "      <td>94</td>\n",
       "    </tr>\n",
       "    <tr>\n",
       "      <th>0</th>\n",
       "      <td>Taylor Swift</td>\n",
       "      <td>93</td>\n",
       "    </tr>\n",
       "    <tr>\n",
       "      <th>107</th>\n",
       "      <td>Future</td>\n",
       "      <td>42</td>\n",
       "    </tr>\n",
       "    <tr>\n",
       "      <th>7</th>\n",
       "      <td>The Weeknd</td>\n",
       "      <td>42</td>\n",
       "    </tr>\n",
       "    <tr>\n",
       "      <th>45</th>\n",
       "      <td>Justin Bieber</td>\n",
       "      <td>39</td>\n",
       "    </tr>\n",
       "    <tr>\n",
       "      <th>2</th>\n",
       "      <td>Ariana Grande</td>\n",
       "      <td>38</td>\n",
       "    </tr>\n",
       "    <tr>\n",
       "      <th>277</th>\n",
       "      <td>Lil Uzi Vert</td>\n",
       "      <td>36</td>\n",
       "    </tr>\n",
       "    <tr>\n",
       "      <th>108</th>\n",
       "      <td>YoungBoy Never Broke Again</td>\n",
       "      <td>33</td>\n",
       "    </tr>\n",
       "    <tr>\n",
       "      <th>222</th>\n",
       "      <td>J. Cole</td>\n",
       "      <td>31</td>\n",
       "    </tr>\n",
       "  </tbody>\n",
       "</table>\n",
       "</div>"
      ],
      "text/plain": [
       "                          artist  count\n",
       "1729                   Glee Cast    156\n",
       "209                        Drake     94\n",
       "0                   Taylor Swift     93\n",
       "107                       Future     42\n",
       "7                     The Weeknd     42\n",
       "45                 Justin Bieber     39\n",
       "2                  Ariana Grande     38\n",
       "277                 Lil Uzi Vert     36\n",
       "108   YoungBoy Never Broke Again     33\n",
       "222                      J. Cole     31"
      ]
     },
     "execution_count": 11,
     "metadata": {},
     "output_type": "execute_result"
    }
   ],
   "source": [
    "art"
   ]
  },
  {
   "cell_type": "code",
   "execution_count": 12,
   "metadata": {},
   "outputs": [
    {
     "data": {
      "text/plain": [
       "([0, 1, 2, 3, 4, 5, 6, 7, 8, 9],\n",
       " [Text(0, 0, ''),\n",
       "  Text(0, 0, ''),\n",
       "  Text(0, 0, ''),\n",
       "  Text(0, 0, ''),\n",
       "  Text(0, 0, ''),\n",
       "  Text(0, 0, ''),\n",
       "  Text(0, 0, ''),\n",
       "  Text(0, 0, ''),\n",
       "  Text(0, 0, ''),\n",
       "  Text(0, 0, '')])"
      ]
     },
     "execution_count": 12,
     "metadata": {},
     "output_type": "execute_result"
    },
    {
     "data": {
      "image/png": "[encoded data removed]",
      "text/plain": [
       "<Figure size 1152x288 with 1 Axes>"
      ]
     },
     "metadata": {
      "needs_background": "light"
     },
     "output_type": "display_data"
    }
   ],
   "source": [
    "import matplotlib.pyplot as plt\n",
    "plt.figure(figsize=(16,4))\n",
    "plt.bar(art['artist'], art['count'])\n",
    "plt.xlabel(\"top artists\")\n",
    "plt.ylabel(\"count\")\n",
    "plt.title(\"Artist count in the Billboard Hot 100\")\n",
    "plt.xticks(rotation=90)\n",
    "#plt.savefig('top artists.png')"
   ]
  },
  {
   "cell_type": "code",
   "execution_count": 13,
   "metadata": {},
   "outputs": [],
   "source": [
    "large = df.nlargest(10, 'weeks_board')"
   ]
  },
  {
   "cell_type": "code",
   "execution_count": 14,
   "metadata": {},
   "outputs": [
    {
     "data": {
      "text/plain": [
       "([0, 1, 2, 3, 4, 5, 6, 7, 8, 9],\n",
       " [Text(0, 0, ''),\n",
       "  Text(0, 0, ''),\n",
       "  Text(0, 0, ''),\n",
       "  Text(0, 0, ''),\n",
       "  Text(0, 0, ''),\n",
       "  Text(0, 0, ''),\n",
       "  Text(0, 0, ''),\n",
       "  Text(0, 0, ''),\n",
       "  Text(0, 0, ''),\n",
       "  Text(0, 0, '')])"
      ]
     },
     "execution_count": 14,
     "metadata": {},
     "output_type": "execute_result"
    },
    {
     "data": {
      "image/png": "[encoded data removed]",
      "text/plain": [
       "<Figure size 1152x288 with 1 Axes>"
      ]
     },
     "metadata": {
      "needs_background": "light"
     },
     "output_type": "display_data"
    }
   ],
   "source": [
    "import matplotlib.pyplot as plt\n",
    "plt.figure(figsize=(16,4))\n",
    "plt.bar(large['song'], large['weeks_board'])\n",
    "plt.xlabel(\"Songs\")\n",
    "plt.ylabel(\"Weeks count\")\n",
    "plt.title(\"Songs with highest weeks on the Billboard Hot 100 chart\")\n",
    "plt.xticks(rotation=90)\n",
    "#plt.savefig('top artists.png')"
   ]
  },
  {
   "cell_type": "code",
   "execution_count": 15,
   "metadata": {},
   "outputs": [
    {
     "data": {
      "image/png": "[encoded data removed]",
      "text/plain": [
       "<Figure size 216x576 with 1 Axes>"
      ]
     },
     "metadata": {
      "needs_background": "light"
     },
     "output_type": "display_data"
    }
   ],
   "source": [
    "boxplot = df.boxplot(column=['weeks_board'], figsize=(3,8))"
   ]
  },
  {
   "cell_type": "code",
   "execution_count": 16,
   "metadata": {},
   "outputs": [
    {
     "data": {
      "image/png": "[encoded data removed]",
      "text/plain": [
       "<Figure size 216x576 with 1 Axes>"
      ]
     },
     "metadata": {
      "needs_background": "light"
     },
     "output_type": "display_data"
    }
   ],
   "source": [
    "boxplot = df.boxplot(column=['days'], figsize=(3,8))"
   ]
  },
  {
   "cell_type": "code",
   "execution_count": 29,
   "metadata": {},
   "outputs": [
    {
     "data": {
      "text/html": [
       "<div>\n",
       "<style scoped>\n",
       "    .dataframe tbody tr th:only-of-type {\n",
       "        vertical-align: middle;\n",
       "    }\n",
       "\n",
       "    .dataframe tbody tr th {\n",
       "        vertical-align: top;\n",
       "    }\n",
       "\n",
       "    .dataframe thead th {\n",
       "        text-align: right;\n",
       "    }\n",
       "</style>\n",
       "<table border=\"1\" class=\"dataframe\">\n",
       "  <thead>\n",
       "    <tr style=\"text-align: right;\">\n",
       "      <th></th>\n",
       "      <th>peak_date</th>\n",
       "      <th>release_date</th>\n",
       "      <th>song</th>\n",
       "      <th>artist</th>\n",
       "      <th>peak_rank</th>\n",
       "      <th>current_rank</th>\n",
       "      <th>last_rank</th>\n",
       "      <th>weeks_board</th>\n",
       "      <th>lyrics</th>\n",
       "      <th>lyrics_score</th>\n",
       "      <th>lyrics_neg</th>\n",
       "      <th>lyrics_neu</th>\n",
       "      <th>lyrics_pos</th>\n",
       "      <th>lyrics_compound</th>\n",
       "      <th>lyrics_label</th>\n",
       "      <th>spotify_pop</th>\n",
       "      <th>spotify_id</th>\n",
       "      <th>spotify_explicit</th>\n",
       "      <th>days</th>\n",
       "    </tr>\n",
       "  </thead>\n",
       "  <tbody>\n",
       "    <tr>\n",
       "      <th>0</th>\n",
       "      <td>2020-12-26</td>\n",
       "      <td>2020-12-11</td>\n",
       "      <td>Willow</td>\n",
       "      <td>Taylor Swift</td>\n",
       "      <td>1</td>\n",
       "      <td>1</td>\n",
       "      <td>NaN</td>\n",
       "      <td>1</td>\n",
       "      <td>[Verse 1] I'm like the water when your ship ro...</td>\n",
       "      <td>{'neg': 0.085, 'neu': 0.773, 'pos': 0.141, 'co...</td>\n",
       "      <td>0.085</td>\n",
       "      <td>0.773</td>\n",
       "      <td>0.141</td>\n",
       "      <td>0.9829</td>\n",
       "      <td>pos</td>\n",
       "      <td>82</td>\n",
       "      <td>0lx2cLdOt3piJbcaXIV74f</td>\n",
       "      <td>False</td>\n",
       "      <td>15</td>\n",
       "    </tr>\n",
       "    <tr>\n",
       "      <th>1</th>\n",
       "      <td>2020-12-26</td>\n",
       "      <td>2020-07-24</td>\n",
       "      <td>Mood</td>\n",
       "      <td>24kGoldn Featuring iann dior</td>\n",
       "      <td>1</td>\n",
       "      <td>5</td>\n",
       "      <td>2.0</td>\n",
       "      <td>19</td>\n",
       "      <td>Why you always such a noob Walking round, acti...</td>\n",
       "      <td>{'neg': 0.089, 'neu': 0.796, 'pos': 0.115, 'co...</td>\n",
       "      <td>0.089</td>\n",
       "      <td>0.796</td>\n",
       "      <td>0.115</td>\n",
       "      <td>0.9751</td>\n",
       "      <td>pos</td>\n",
       "      <td>89</td>\n",
       "      <td>4jPy3l0RUwlUI9T5XHBW2m</td>\n",
       "      <td>True</td>\n",
       "      <td>155</td>\n",
       "    </tr>\n",
       "    <tr>\n",
       "      <th>2</th>\n",
       "      <td>2020-12-26</td>\n",
       "      <td>2020-10-30</td>\n",
       "      <td>Positions</td>\n",
       "      <td>Ariana Grande</td>\n",
       "      <td>1</td>\n",
       "      <td>8</td>\n",
       "      <td>4.0</td>\n",
       "      <td>8</td>\n",
       "      <td>[Verse 1] Heaven sent you to me I'm just hopin...</td>\n",
       "      <td>{'neg': 0.039, 'neu': 0.803, 'pos': 0.157, 'co...</td>\n",
       "      <td>0.039</td>\n",
       "      <td>0.803</td>\n",
       "      <td>0.157</td>\n",
       "      <td>0.9935</td>\n",
       "      <td>pos</td>\n",
       "      <td>88</td>\n",
       "      <td>35mvY5S1H3J2QZyna3TFe0</td>\n",
       "      <td>True</td>\n",
       "      <td>57</td>\n",
       "    </tr>\n",
       "    <tr>\n",
       "      <th>3</th>\n",
       "      <td>2020-12-26</td>\n",
       "      <td>2020-11-20</td>\n",
       "      <td>Dynamite</td>\n",
       "      <td>BTS</td>\n",
       "      <td>1</td>\n",
       "      <td>9</td>\n",
       "      <td>24.0</td>\n",
       "      <td>17</td>\n",
       "      <td>[Intro: Jung Kook] 'Cause I, I, I'm in the sta...</td>\n",
       "      <td>{'neg': 0.03, 'neu': 0.82, 'pos': 0.15, 'compo...</td>\n",
       "      <td>0.030</td>\n",
       "      <td>0.820</td>\n",
       "      <td>0.150</td>\n",
       "      <td>0.9946</td>\n",
       "      <td>pos</td>\n",
       "      <td>88</td>\n",
       "      <td>5QDLhrAOJJdNAmCTJ8xMyW</td>\n",
       "      <td>False</td>\n",
       "      <td>36</td>\n",
       "    </tr>\n",
       "    <tr>\n",
       "      <th>4</th>\n",
       "      <td>2020-12-26</td>\n",
       "      <td>2020-09-18</td>\n",
       "      <td>Holy</td>\n",
       "      <td>Justin Bieber Featuring Chance The Rapper</td>\n",
       "      <td>3</td>\n",
       "      <td>13</td>\n",
       "      <td>9.0</td>\n",
       "      <td>13</td>\n",
       "      <td>[Verse 1: Justin Bieber] I hear a lot about si...</td>\n",
       "      <td>{'neg': 0.07, 'neu': 0.799, 'pos': 0.131, 'com...</td>\n",
       "      <td>0.070</td>\n",
       "      <td>0.799</td>\n",
       "      <td>0.131</td>\n",
       "      <td>0.9863</td>\n",
       "      <td>pos</td>\n",
       "      <td>80</td>\n",
       "      <td>5u1n1kITHCxxp8twBcZxWy</td>\n",
       "      <td>False</td>\n",
       "      <td>99</td>\n",
       "    </tr>\n",
       "  </tbody>\n",
       "</table>\n",
       "</div>"
      ],
      "text/plain": [
       "    peak_date release_date       song  \\\n",
       "0  2020-12-26   2020-12-11     Willow   \n",
       "1  2020-12-26   2020-07-24       Mood   \n",
       "2  2020-12-26   2020-10-30  Positions   \n",
       "3  2020-12-26   2020-11-20   Dynamite   \n",
       "4  2020-12-26   2020-09-18       Holy   \n",
       "\n",
       "                                      artist  peak_rank  current_rank  \\\n",
       "0                               Taylor Swift          1             1   \n",
       "1               24kGoldn Featuring iann dior          1             5   \n",
       "2                              Ariana Grande          1             8   \n",
       "3                                        BTS          1             9   \n",
       "4  Justin Bieber Featuring Chance The Rapper          3            13   \n",
       "\n",
       "   last_rank  weeks_board                                             lyrics  \\\n",
       "0        NaN            1  [Verse 1] I'm like the water when your ship ro...   \n",
       "1        2.0           19  Why you always such a noob Walking round, acti...   \n",
       "2        4.0            8  [Verse 1] Heaven sent you to me I'm just hopin...   \n",
       "3       24.0           17  [Intro: Jung Kook] 'Cause I, I, I'm in the sta...   \n",
       "4        9.0           13  [Verse 1: Justin Bieber] I hear a lot about si...   \n",
       "\n",
       "                                        lyrics_score  lyrics_neg  lyrics_neu  \\\n",
       "0  {'neg': 0.085, 'neu': 0.773, 'pos': 0.141, 'co...       0.085       0.773   \n",
       "1  {'neg': 0.089, 'neu': 0.796, 'pos': 0.115, 'co...       0.089       0.796   \n",
       "2  {'neg': 0.039, 'neu': 0.803, 'pos': 0.157, 'co...       0.039       0.803   \n",
       "3  {'neg': 0.03, 'neu': 0.82, 'pos': 0.15, 'compo...       0.030       0.820   \n",
       "4  {'neg': 0.07, 'neu': 0.799, 'pos': 0.131, 'com...       0.070       0.799   \n",
       "\n",
       "   lyrics_pos  lyrics_compound lyrics_label  spotify_pop  \\\n",
       "0       0.141           0.9829          pos           82   \n",
       "1       0.115           0.9751          pos           89   \n",
       "2       0.157           0.9935          pos           88   \n",
       "3       0.150           0.9946          pos           88   \n",
       "4       0.131           0.9863          pos           80   \n",
       "\n",
       "               spotify_id  spotify_explicit  days  \n",
       "0  0lx2cLdOt3piJbcaXIV74f             False    15  \n",
       "1  4jPy3l0RUwlUI9T5XHBW2m              True   155  \n",
       "2  35mvY5S1H3J2QZyna3TFe0              True    57  \n",
       "3  5QDLhrAOJJdNAmCTJ8xMyW             False    36  \n",
       "4  5u1n1kITHCxxp8twBcZxWy             False    99  "
      ]
     },
     "execution_count": 29,
     "metadata": {},
     "output_type": "execute_result"
    }
   ],
   "source": [
    "df.head()"
   ]
  },
  {
   "cell_type": "code",
   "execution_count": 26,
   "metadata": {},
   "outputs": [
    {
     "data": {
      "image/png": "[encoded data removed]",
      "text/plain": [
       "<Figure size 432x360 with 2 Axes>"
      ]
     },
     "metadata": {
      "needs_background": "light"
     },
     "output_type": "display_data"
    }
   ],
   "source": [
    "d = {'peak': df['peak_rank'], 'sentiment': df['lyrics_compound'], 'explicit': df['spotify_explicit'], 'days': df['days']}\n",
    "df1 = pd.DataFrame(data=d)\n",
    "\n",
    "import seaborn as sns\n",
    "f,ax = plt.subplots(figsize=(6,5))\n",
    "sns.heatmap(df1.corr(), annot=True, linewidths=.5, fmt= '.1f',ax=ax)\n",
    "plt.title(\"Correlation: song features and peak rank\")\n",
    "plt.savefig('line_plot.pdf')  "
   ]
  },
  {
   "cell_type": "code",
   "execution_count": 27,
   "metadata": {},
   "outputs": [
    {
     "data": {
      "image/png": "[encoded data removed]",
      "text/plain": [
       "<Figure size 432x360 with 2 Axes>"
      ]
     },
     "metadata": {
      "needs_background": "light"
     },
     "output_type": "display_data"
    }
   ],
   "source": [
    "d = {'popularity': df['spotify_pop'], 'sentiment': df['lyrics_compound'], 'explicit': df['spotify_explicit'], 'days': df['days']}\n",
    "df2 = pd.DataFrame(data=d)\n",
    "\n",
    "import seaborn as sns\n",
    "f,ax = plt.subplots(figsize=(6,5))\n",
    "sns.heatmap(df2.corr(), annot=True, linewidths=.5, fmt= '.1f',ax=ax)\n",
    "plt.title(\"Correlation: song features and spotify popularity\")\n",
    "plt.savefig('line_plot.pdf') "
   ]
  },
  {
   "cell_type": "code",
   "execution_count": 20,
   "metadata": {},
   "outputs": [
    {
     "data": {
      "text/plain": [
       "Text(0.5, 1.0, 'Distribution of weeks on the chart')"
      ]
     },
     "execution_count": 20,
     "metadata": {},
     "output_type": "execute_result"
    },
    {
     "data": {
      "image/png": "[encoded data removed]",
      "text/plain": [
       "<Figure size 432x288 with 1 Axes>"
      ]
     },
     "metadata": {
      "needs_background": "light"
     },
     "output_type": "display_data"
    }
   ],
   "source": [
    "weeks = df['weeks_board']\n",
    "weeks.plot.kde()\n",
    "plt.xlabel(\"weeks on board\")\n",
    "plt.title(\"Distribution of weeks on the chart\")"
   ]
  },
  {
   "cell_type": "code",
   "execution_count": 21,
   "metadata": {},
   "outputs": [
    {
     "data": {
      "text/plain": [
       "Text(0.5, 1.0, 'Distribution of release and peak rank difference in days')"
      ]
     },
     "execution_count": 21,
     "metadata": {},
     "output_type": "execute_result"
    },
    {
     "data": {
      "image/png": "[encoded data removed]",
      "text/plain": [
       "<Figure size 432x288 with 1 Axes>"
      ]
     },
     "metadata": {
      "needs_background": "light"
     },
     "output_type": "display_data"
    }
   ],
   "source": [
    "days = df['days']\n",
    "days.plot.kde()\n",
    "plt.xlabel(\"Difference between release and peak rank dates (days)\")\n",
    "plt.title(\"Distribution of release and peak rank difference in days\")"
   ]
  },
  {
   "cell_type": "code",
   "execution_count": 28,
   "metadata": {},
   "outputs": [
    {
     "data": {
      "text/plain": [
       "Text(0.5, 1.0, 'Distribution of the Spotify Popularity Scores')"
      ]
     },
     "execution_count": 28,
     "metadata": {},
     "output_type": "execute_result"
    },
    {
     "data": {
      "image/png": "[encoded data removed]",
      "text/plain": [
       "<Figure size 432x288 with 1 Axes>"
      ]
     },
     "metadata": {
      "needs_background": "light"
     },
     "output_type": "display_data"
    }
   ],
   "source": [
    "pop = df['spotify_pop']\n",
    "pop.plot.kde()\n",
    "plt.xlabel(\"Spotify popularity score\")\n",
    "plt.title(\"Distribution of the Spotify Popularity Scores\")"
   ]
  },
  {
   "cell_type": "code",
   "execution_count": 23,
   "metadata": {},
   "outputs": [],
   "source": [
    "sort = df.sort_values(by=['days'])"
   ]
  },
  {
   "cell_type": "code",
   "execution_count": 24,
   "metadata": {},
   "outputs": [
    {
     "data": {
      "text/plain": [
       "([], [])"
      ]
     },
     "execution_count": 24,
     "metadata": {},
     "output_type": "execute_result"
    },
    {
     "data": {
      "image/png": "[encoded data removed]",
      "text/plain": [
       "<Figure size 432x288 with 1 Axes>"
      ]
     },
     "metadata": {
      "needs_background": "light"
     },
     "output_type": "display_data"
    }
   ],
   "source": [
    "plt.plot(sort['song'], sort['days'])\n",
    "plt.xticks([])"
   ]
  },
  {
   "cell_type": "code",
   "execution_count": null,
   "metadata": {},
   "outputs": [],
   "source": []
  }
 ],
 "metadata": {
  "kernelspec": {
   "display_name": "Python 3 (ipykernel)",
   "language": "python",
   "name": "python3"
  },
  "language_info": {
   "codemirror_mode": {
    "name": "ipython",
    "version": 3
   },
   "file_extension": ".py",
   "mimetype": "text/x-python",
   "name": "python",
   "nbconvert_exporter": "python",
   "pygments_lexer": "ipython3",
   "version": "3.8.5"
  }
 },
 "nbformat": 4,
 "nbformat_minor": 4
}
