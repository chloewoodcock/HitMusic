{
 "cells": [
  {
   "cell_type": "markdown",
   "metadata": {},
   "source": [
    "# Spotify API\n",
    "Website: https://towardsdatascience.com/extracting-song-data-from-the-spotify-api-using-python-b1e79388d50"
   ]
  },
  {
   "cell_type": "code",
   "execution_count": null,
   "metadata": {},
   "outputs": [],
   "source": [
    "import pandas as pd"
   ]
  },
  {
   "cell_type": "code",
   "execution_count": null,
   "metadata": {},
   "outputs": [],
   "source": [
    "df = pd.read_csv(r'2010_2020_noDuplicates_lyrics1_sentiment.csv')"
   ]
  },
  {
   "cell_type": "code",
   "execution_count": null,
   "metadata": {},
   "outputs": [],
   "source": [
    "df.drop(df.columns[[0, 1]], axis = 1, inplace = True)"
   ]
  },
  {
   "cell_type": "code",
   "execution_count": null,
   "metadata": {},
   "outputs": [],
   "source": [
    "df"
   ]
  },
  {
   "cell_type": "code",
   "execution_count": null,
   "metadata": {},
   "outputs": [],
   "source": [
    "import spotipy\n",
    "from spotipy import SpotifyClientCredentials"
   ]
  },
  {
   "cell_type": "code",
   "execution_count": null,
   "metadata": {},
   "outputs": [],
   "source": [
    "sp = spotipy.Spotify(auth_manager=SpotifyClientCredentials(client_id='a80193c424d54fd78a94b63408a23044',\n",
    "                                                           client_secret='bea9acdbe96b43749630fbf0efc0d9fb'))"
   ]
  },
  {
   "cell_type": "code",
   "execution_count": null,
   "metadata": {},
   "outputs": [],
   "source": [
    "results = sp.search(q='artist:' + \"Ariana Grande\" + ' track:' + \"positions\", limit=1)\n",
    "print (results)"
   ]
  },
  {
   "cell_type": "code",
   "execution_count": null,
   "metadata": {},
   "outputs": [],
   "source": [
    "artist_name = results['tracks']['items'][0]['artists'][0]['name']\n",
    "track_name = results['tracks']['items'][0]['name']"
   ]
  },
  {
   "cell_type": "code",
   "execution_count": null,
   "metadata": {},
   "outputs": [],
   "source": [
    "print (artist_name)\n",
    "print (track_name)"
   ]
  },
  {
   "cell_type": "code",
   "execution_count": null,
   "metadata": {},
   "outputs": [],
   "source": [
    "track_id = results['tracks']['items'][0]['uri']"
   ]
  },
  {
   "cell_type": "code",
   "execution_count": null,
   "metadata": {},
   "outputs": [],
   "source": [
    "track_id"
   ]
  },
  {
   "cell_type": "code",
   "execution_count": null,
   "metadata": {},
   "outputs": [],
   "source": [
    "track_id_split = str.split(track_id, 'spotify:track:')"
   ]
  },
  {
   "cell_type": "code",
   "execution_count": null,
   "metadata": {},
   "outputs": [],
   "source": [
    "track_id_split[1]"
   ]
  },
  {
   "cell_type": "code",
   "execution_count": null,
   "metadata": {},
   "outputs": [],
   "source": [
    "for idx, track in enumerate(results['tracks']['items']):\n",
    "    print (track['id'])\n",
    "    print (track['name'])\n"
   ]
  },
  {
   "cell_type": "code",
   "execution_count": null,
   "metadata": {},
   "outputs": [],
   "source": [
    "track = \"Willow\"\n",
    "DNF_song_search = sp.search(q=track)"
   ]
  },
  {
   "cell_type": "code",
   "execution_count": null,
   "metadata": {},
   "outputs": [],
   "source": [
    "DNF_song_search"
   ]
  },
  {
   "cell_type": "code",
   "execution_count": null,
   "metadata": {},
   "outputs": [],
   "source": [
    "artist_name = DNF_song_search['tracks']['items'][0]['artists'][0]['name']"
   ]
  },
  {
   "cell_type": "code",
   "execution_count": null,
   "metadata": {},
   "outputs": [],
   "source": [
    "artist_name"
   ]
  },
  {
   "cell_type": "markdown",
   "metadata": {},
   "source": [
    "# Getting Spotify Information Test"
   ]
  },
  {
   "cell_type": "code",
   "execution_count": null,
   "metadata": {},
   "outputs": [],
   "source": [
    "popularity_score = []\n",
    "explicit = []\n",
    "uri = []\n",
    "for x in range(0, 5250, 1):\n",
    "    print (\"number: \", x)\n",
    "    n = df['song'][x]\n",
    "    a = df['artist'][x]\n",
    "    print (\"Searching for \", n, a)\n",
    "    try:\n",
    "        spotify_response = sp.search(q='artist:' + a + ' track:' + n, limit=1)\n",
    "        artist_name = spotify_response['tracks']['items'][0]['artists'][0]['name']\n",
    "        track_name = spotify_response['tracks']['items'][0]['name']\n",
    "        print (track_name, artist_name)\n",
    "        correct = input(\"Is this correct?\")\n",
    "        if correct == \"y\":\n",
    "            for idx, track in enumerate(spotify_response['tracks']['items']):\n",
    "                print (track['popularity'])\n",
    "                print (track['explicit'])\n",
    "                print (track['id'])\n",
    "                popularity_score.append(track['popularity'])\n",
    "                explicit.append(track['explicit'])\n",
    "                uri.append(track['uri'])\n",
    "        else:\n",
    "            print (\"Fail\")\n",
    "            popularity_score.append('no')\n",
    "            explicit.append('no')\n",
    "            uri.append('no')\n",
    "    except:\n",
    "        print (\"Fail\")\n",
    "        popularity_score.append('no')\n",
    "        explicit.append('no')\n",
    "        uri.append('no')"
   ]
  },
  {
   "cell_type": "code",
   "execution_count": null,
   "metadata": {},
   "outputs": [],
   "source": [
    "print (popularity_score)\n",
    "print (explicit)\n",
    "print (uri)"
   ]
  },
  {
   "cell_type": "code",
   "execution_count": null,
   "metadata": {},
   "outputs": [],
   "source": [
    "pop = []\n",
    "for x in uri:\n",
    "    if x == 'no':\n",
    "        pop.append(x)\n",
    "    else:\n",
    "        y = str.split(x, 'spotify:track:')\n",
    "        l = y[1]\n",
    "        pop.append(l)"
   ]
  },
  {
   "cell_type": "code",
   "execution_count": null,
   "metadata": {},
   "outputs": [],
   "source": [
    "pop"
   ]
  },
  {
   "cell_type": "code",
   "execution_count": null,
   "metadata": {},
   "outputs": [],
   "source": [
    "df['spotify_id'] = pop"
   ]
  },
  {
   "cell_type": "code",
   "execution_count": null,
   "metadata": {},
   "outputs": [],
   "source": [
    "df['spotify_explicit'] = explicit"
   ]
  },
  {
   "cell_type": "code",
   "execution_count": null,
   "metadata": {},
   "outputs": [],
   "source": [
    "df['spotify_pop'] = popularity_score"
   ]
  },
  {
   "cell_type": "code",
   "execution_count": null,
   "metadata": {},
   "outputs": [],
   "source": [
    "df"
   ]
  },
  {
   "cell_type": "code",
   "execution_count": null,
   "metadata": {},
   "outputs": [],
   "source": [
    "df.to_csv (r'2010_2020_lyrics1_sentiment_spotify.csv', header=True)\n"
   ]
  },
  {
   "cell_type": "code",
   "execution_count": null,
   "metadata": {},
   "outputs": [],
   "source": [
    "df = pd.read_csv(r'2010_2020_lyrics1_sentiment_spotify.csv')"
   ]
  },
  {
   "cell_type": "code",
   "execution_count": null,
   "metadata": {},
   "outputs": [],
   "source": [
    "df"
   ]
  },
  {
   "cell_type": "code",
   "execution_count": null,
   "metadata": {},
   "outputs": [],
   "source": [
    "df['spotify_id'].value_counts()"
   ]
  },
  {
   "cell_type": "code",
   "execution_count": null,
   "metadata": {},
   "outputs": [],
   "source": [
    "count = 0\n",
    "wrong_song = []\n",
    "wrong_artist = []\n",
    "wrong_x = []\n",
    "wrong_coup = []\n",
    "for x in range(0, 5250, 1):\n",
    "    if str(df['spotify_id'][x]) == str('no'):\n",
    "        wrong_song.append(df['song'][x])\n",
    "        wrong_artist.append(df['artist'][x])\n",
    "        wrong_coup.append([df['song'][x], df['artist'][x]])\n",
    "        wrong_x.append(x)\n",
    "        count += 1\n",
    "print (count)"
   ]
  },
  {
   "cell_type": "code",
   "execution_count": null,
   "metadata": {},
   "outputs": [],
   "source": [
    "wrong_coup"
   ]
  },
  {
   "cell_type": "code",
   "execution_count": null,
   "metadata": {},
   "outputs": [],
   "source": [
    "track = \"levitating\"\n",
    "DNF_song_search = sp.search(q=track)"
   ]
  },
  {
   "cell_type": "code",
   "execution_count": null,
   "metadata": {},
   "outputs": [],
   "source": [
    "artist_name = DNF_song_search['tracks']['items'][0]['artists'][0]['name']\n",
    "song_name = DNF_song_search['tracks']['items'][0]['name']\n",
    "song_popularity = DNF_song_search['tracks']['items'][0]['popularity']\n",
    "song_explicit = DNF_song_search['tracks']['items'][0]['explicit']\n",
    "song_id = DNF_song_search['tracks']['items'][0]['id']"
   ]
  },
  {
   "cell_type": "code",
   "execution_count": null,
   "metadata": {},
   "outputs": [],
   "source": [
    "print (artist_name, song_name, song_popularity, song_explicit, song_id)"
   ]
  },
  {
   "cell_type": "code",
   "execution_count": null,
   "metadata": {},
   "outputs": [],
   "source": [
    "print (wrong_song)\n",
    "print (wrong_artist)\n",
    "print (wrong_x)"
   ]
  },
  {
   "cell_type": "code",
   "execution_count": null,
   "metadata": {},
   "outputs": [],
   "source": [
    "for x in range(0, (len(wrong_x)), 1):\n",
    "    index = wrong_x[x]\n",
    "    s1 = wrong_song[x]\n",
    "    a1 = wrong_artist[x]\n",
    "    track = s1\n",
    "    print (\"Searching for \", s1, a1)\n",
    "    try:\n",
    "        results = sp.search(q='artist:' + \"DaBaby\" + ' track:' + \"rockstar\", limit=1)\n",
    "        artist_name = results['tracks']['items'][0]['artists'][0]['name']\n",
    "        song_name = results['tracks']['items'][0]['name']\n",
    "        print (artist_name)\n",
    "        print (song_name)\n",
    "        valid = input(\"Correct?\")\n",
    "        if valid == 'y':\n",
    "            song_popularity = results['tracks']['items'][0]['popularity']\n",
    "            song_explicit = results['tracks']['items'][0]['explicit']\n",
    "            song_id = resulus['tracks']['items'][0]['id']\n",
    "            df['spotify_pop'][index] = song_popularity\n",
    "            df['spotify_explicit'][index] = song_explicit\n",
    "            df['spotify_id'][index] = song_id\n",
    "        else:\n",
    "            print (\"Fail\")\n",
    "    except:\n",
    "        print (\"Fail\")\n",
    "    "
   ]
  },
  {
   "cell_type": "code",
   "execution_count": null,
   "metadata": {},
   "outputs": [],
   "source": [
    "df"
   ]
  },
  {
   "cell_type": "code",
   "execution_count": null,
   "metadata": {},
   "outputs": [],
   "source": [
    "count = 0\n",
    "wrong_song = []\n",
    "wrong_artist = []\n",
    "wrong_x = []\n",
    "wrong_coup = []\n",
    "for x in range(0, 5250, 1):\n",
    "    if str(df['spotify_id'][x]) == str('no'):\n",
    "        wrong_song.append(df['song'][x])\n",
    "        wrong_artist.append(df['artist'][x])\n",
    "        wrong_coup.append([df['song'][x], df['artist'][x]])\n",
    "        wrong_x.append(x)\n",
    "        count += 1\n",
    "print (count)"
   ]
  },
  {
   "cell_type": "code",
   "execution_count": null,
   "metadata": {},
   "outputs": [],
   "source": [
    "len(wrong_x)"
   ]
  },
  {
   "cell_type": "code",
   "execution_count": null,
   "metadata": {},
   "outputs": [],
   "source": []
  },
  {
   "cell_type": "code",
   "execution_count": null,
   "metadata": {},
   "outputs": [],
   "source": []
  },
  {
   "cell_type": "code",
   "execution_count": null,
   "metadata": {},
   "outputs": [],
   "source": [
    "for x in range(0, (len(wrong_x)), 1):\n",
    "    index = wrong_x[x]\n",
    "    s1 = wrong_song[x]\n",
    "    a1 = wrong_artist[x]\n",
    "    track = s1\n",
    "    print (\"Searching for \", s1, a1)\n",
    "    try:\n",
    "        results = sp.search(q='artist:' + a1 + ' track:' + s1, limit=1)\n",
    "        artist_name = results['tracks']['items'][0]['artists'][0]['name']\n",
    "        song_name = results['tracks']['items'][0]['name']\n",
    "        print (artist_name)\n",
    "        print (song_name)\n",
    "        valid = input(\"Correct?\")\n",
    "        if valid == 'y':\n",
    "            song_popularity = results['tracks']['items'][0]['popularity']\n",
    "            song_explicit = results['tracks']['items'][0]['explicit']\n",
    "            song_id = resulus['tracks']['items'][0]['id']\n",
    "            df['spotify_pop'][index] = song_popularity\n",
    "            df['spotify_explicit'][index] = song_explicit\n",
    "            df['spotify_id'][index] = song_id\n",
    "        else:\n",
    "            print (\"Fail\")\n",
    "    except:\n",
    "        print (\"Fail\")\n",
    "    "
   ]
  },
  {
   "cell_type": "code",
   "execution_count": null,
   "metadata": {},
   "outputs": [],
   "source": [
    "df.to_csv (r'2010_2020_lyrics1_sentiment_spotify.csv', header=True)"
   ]
  },
  {
   "cell_type": "code",
   "execution_count": null,
   "metadata": {},
   "outputs": [],
   "source": [
    "df"
   ]
  },
  {
   "cell_type": "code",
   "execution_count": null,
   "metadata": {},
   "outputs": [],
   "source": [
    "results['tracks']['items'][0]['album']['release_date']"
   ]
  },
  {
   "cell_type": "code",
   "execution_count": null,
   "metadata": {},
   "outputs": [],
   "source": []
  }
 ],
 "metadata": {
  "kernelspec": {
   "display_name": "Python 3 (ipykernel)",
   "language": "python",
   "name": "python3"
  },
  "language_info": {
   "codemirror_mode": {
    "name": "ipython",
    "version": 3
   },
   "file_extension": ".py",
   "mimetype": "text/x-python",
   "name": "python",
   "nbconvert_exporter": "python",
   "pygments_lexer": "ipython3",
   "version": "3.8.5"
  }
 },
 "nbformat": 4,
 "nbformat_minor": 4
}
